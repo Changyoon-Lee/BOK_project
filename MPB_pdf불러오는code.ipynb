{
  "nbformat": 4,
  "nbformat_minor": 0,
  "metadata": {
    "colab": {
      "name": "MPB-pdf불러오는code.ipynb",
      "provenance": [],
      "collapsed_sections": [],
      "authorship_tag": "ABX9TyOpqKremqsWdbWnRe5Tijl5",
      "include_colab_link": true
    },
    "kernelspec": {
      "name": "python3",
      "display_name": "Python 3"
    }
  },
  "cells": [
    {
      "cell_type": "markdown",
      "metadata": {
        "id": "view-in-github",
        "colab_type": "text"
      },
      "source": [
        "<a href=\"https://colab.research.google.com/github/Changyoon-Lee/mulcamB_1/blob/master/MPB_pdf%EB%B6%88%EB%9F%AC%EC%98%A4%EB%8A%94code.ipynb\" target=\"_parent\"><img src=\"https://colab.research.google.com/assets/colab-badge.svg\" alt=\"Open In Colab\"/></a>"
      ]
    },
    {
      "cell_type": "code",
      "metadata": {
        "id": "dvc3OywXf6gU",
        "colab_type": "code",
        "colab": {
          "base_uri": "https://localhost:8080/",
          "height": 127
        },
        "outputId": "82868d7b-0c88-4ab4-c053-34fb0f93cf13"
      },
      "source": [
        "from google.colab import auth\n",
        "auth.authenticate_user()\n",
        "\n",
        "from google.colab import drive\n",
        "drive.mount('/content/gdrive')\n"
      ],
      "execution_count": null,
      "outputs": [
        {
          "output_type": "stream",
          "text": [
            "Go to this URL in a browser: https://accounts.google.com/o/oauth2/auth?client_id=947318989803-6bn6qk8qdgf4n4g3pfee6491hc0brc4i.apps.googleusercontent.com&redirect_uri=urn%3aietf%3awg%3aoauth%3a2.0%3aoob&response_type=code&scope=email%20https%3a%2f%2fwww.googleapis.com%2fauth%2fdocs.test%20https%3a%2f%2fwww.googleapis.com%2fauth%2fdrive%20https%3a%2f%2fwww.googleapis.com%2fauth%2fdrive.photos.readonly%20https%3a%2f%2fwww.googleapis.com%2fauth%2fpeopleapi.readonly\n",
            "\n",
            "Enter your authorization code:\n",
            "··········\n",
            "Mounted at /content/gdrive\n"
          ],
          "name": "stdout"
        }
      ]
    },
    {
      "cell_type": "code",
      "metadata": {
        "id": "X2iO3T_bf5AF",
        "colab_type": "code",
        "colab": {}
      },
      "source": [
        "import requests\n",
        "from bs4 import BeautifulSoup\n"
      ],
      "execution_count": null,
      "outputs": []
    },
    {
      "cell_type": "code",
      "metadata": {
        "id": "9bzt96HOf535",
        "colab_type": "code",
        "colab": {}
      },
      "source": [
        "total_list = [] # 전체 리스트를 가져오고]\n",
        "\n",
        "for i in range(32,33):\n",
        "    url = 'https://www.bok.or.kr/portal/bbs/B0000245/list.do?menuNo=200761'\n",
        "    query = {\n",
        "        'pageIndex' : i\n",
        "      }\n",
        "    resp = requests.get(url, query)\n",
        "    soup = BeautifulSoup(resp.content, 'lxml')\n",
        "    tag = soup.select('div.fileGoupBox a')\n",
        "    # print(len(tag))\n",
        "    total_list.extend(tag)\n",
        "\n",
        "    pdf_list = []\n",
        "    for idx,t in enumerate(total_list):\n",
        "      if total_list[idx].attrs['title'][-3:] == 'pdf':\n",
        "        pdf_list.append(total_list[idx]) #.attrs['href']"
      ],
      "execution_count": null,
      "outputs": []
    },
    {
      "cell_type": "code",
      "metadata": {
        "id": "vXIOKLL6kMAj",
        "colab_type": "code",
        "colab": {}
      },
      "source": [
        "pdf_href_list = []\n",
        "for i in pdf_list:\n",
        "  pdf_href_list.append(i.attrs['href'])\n",
        "\n",
        "# pdf_title_list = []\n",
        "# for i in pdf_list:\n",
        "#   pdf_title_list.append(i.attrs['title'])\n",
        "\n",
        "site = 'https://www.bok.or.kr'\n",
        "\n",
        "url = []\n",
        "for i in range(len(pdf_href_list)):\n",
        "   url.append(site + pdf_href_list[i])"
      ],
      "execution_count": null,
      "outputs": []
    },
    {
      "cell_type": "code",
      "metadata": {
        "id": "pBKN6faWjNZQ",
        "colab_type": "code",
        "colab": {
          "base_uri": "https://localhost:8080/",
          "height": 35
        },
        "outputId": "f8154a40-69c9-472e-8ea2-6356f6e41d16"
      },
      "source": [
        "url"
      ],
      "execution_count": null,
      "outputs": [
        {
          "output_type": "execute_result",
          "data": {
            "text/plain": [
              "['https://www.bok.or.kr/portal/cmmn/file/fileDown.do?menuNo=200761&atchFileId=KO_00000000000085857&fileSn=2']"
            ]
          },
          "metadata": {
            "tags": []
          },
          "execution_count": 7
        }
      ]
    },
    {
      "cell_type": "code",
      "metadata": {
        "id": "fqvt4EnAkhMT",
        "colab_type": "code",
        "colab": {}
      },
      "source": [
        "for i in range(len(url)):\n",
        "  mpb = requests.get(url[i])\n",
        "  with open('/content/gdrive/My Drive/MPB/{}.pdf'.format(i), 'wb') as f: #구글 드라이브로 사용\n",
        "    f.write(mpb.content)"
      ],
      "execution_count": null,
      "outputs": []
    },
    {
      "cell_type": "code",
      "metadata": {
        "id": "ppgrv9UqlJoV",
        "colab_type": "code",
        "colab": {}
      },
      "source": [
        ""
      ],
      "execution_count": null,
      "outputs": []
    },
    {
      "cell_type": "code",
      "metadata": {
        "id": "MTpyGBwBqAr3",
        "colab_type": "code",
        "colab": {}
      },
      "source": [
        ""
      ],
      "execution_count": null,
      "outputs": []
    }
  ]
}