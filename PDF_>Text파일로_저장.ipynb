{
  "nbformat": 4,
  "nbformat_minor": 0,
  "metadata": {
    "colab": {
      "name": "PDF->Text파일로 저장.ipynb",
      "provenance": [],
      "collapsed_sections": [],
      "mount_file_id": "193q6j9Hvz6jPPoF2fgQeWR2RLGQ2yhNn",
      "authorship_tag": "ABX9TyNMODOEmRQ8KXcsiCODyDVd",
      "include_colab_link": true
    },
    "kernelspec": {
      "name": "python3",
      "display_name": "Python 3"
    }
  },
  "cells": [
    {
      "cell_type": "markdown",
      "metadata": {
        "id": "view-in-github",
        "colab_type": "text"
      },
      "source": [
        "<a href=\"https://colab.research.google.com/github/Changyoon-Lee/mulcamB_1/blob/master/PDF_%3EText%ED%8C%8C%EC%9D%BC%EB%A1%9C_%EC%A0%80%EC%9E%A5.ipynb\" target=\"_parent\"><img src=\"https://colab.research.google.com/assets/colab-badge.svg\" alt=\"Open In Colab\"/></a>"
      ]
    },
    {
      "cell_type": "code",
      "metadata": {
        "id": "u5BgdU8ETArW",
        "colab_type": "code",
        "colab": {
          "base_uri": "https://localhost:8080/",
          "height": 127
        },
        "outputId": "7972ae9b-0c96-4199-fa7f-a9648fa1d200"
      },
      "source": [
        "from google.colab import auth\n",
        "auth.authenticate_user()\n",
        "\n",
        "from google.colab import drive\n",
        "drive.mount('/content/gdrive')"
      ],
      "execution_count": null,
      "outputs": [
        {
          "output_type": "stream",
          "text": [
            "Go to this URL in a browser: https://accounts.google.com/o/oauth2/auth?client_id=947318989803-6bn6qk8qdgf4n4g3pfee6491hc0brc4i.apps.googleusercontent.com&redirect_uri=urn%3aietf%3awg%3aoauth%3a2.0%3aoob&response_type=code&scope=email%20https%3a%2f%2fwww.googleapis.com%2fauth%2fdocs.test%20https%3a%2f%2fwww.googleapis.com%2fauth%2fdrive%20https%3a%2f%2fwww.googleapis.com%2fauth%2fdrive.photos.readonly%20https%3a%2f%2fwww.googleapis.com%2fauth%2fpeopleapi.readonly\n",
            "\n",
            "Enter your authorization code:\n",
            "··········\n",
            "Mounted at /content/gdrive\n"
          ],
          "name": "stdout"
        }
      ]
    },
    {
      "cell_type": "code",
      "metadata": {
        "id": "J1pVU7usM4-Z",
        "colab_type": "code",
        "colab": {
          "base_uri": "https://localhost:8080/",
          "height": 143
        },
        "outputId": "3681ed44-6656-4090-9e63-7eb978f25deb"
      },
      "source": [
        "pip install tika"
      ],
      "execution_count": null,
      "outputs": [
        {
          "output_type": "stream",
          "text": [
            "Requirement already satisfied: tika in /usr/local/lib/python3.6/dist-packages (1.24)\n",
            "Requirement already satisfied: setuptools in /usr/local/lib/python3.6/dist-packages (from tika) (49.1.0)\n",
            "Requirement already satisfied: requests in /usr/local/lib/python3.6/dist-packages (from tika) (2.23.0)\n",
            "Requirement already satisfied: idna<3,>=2.5 in /usr/local/lib/python3.6/dist-packages (from requests->tika) (2.10)\n",
            "Requirement already satisfied: chardet<4,>=3.0.2 in /usr/local/lib/python3.6/dist-packages (from requests->tika) (3.0.4)\n",
            "Requirement already satisfied: certifi>=2017.4.17 in /usr/local/lib/python3.6/dist-packages (from requests->tika) (2020.6.20)\n",
            "Requirement already satisfied: urllib3!=1.25.0,!=1.25.1,<1.26,>=1.21.1 in /usr/local/lib/python3.6/dist-packages (from requests->tika) (1.24.3)\n"
          ],
          "name": "stdout"
        }
      ]
    },
    {
      "cell_type": "code",
      "metadata": {
        "id": "8aC_kkJkPPFD",
        "colab_type": "code",
        "colab": {}
      },
      "source": [
        "import re\n",
        "from tika import parser #https://github.com/chrismattmann/tika-python\n",
        "import shutil\n",
        "from os import listdir\n",
        "from os.path import isfile, join\n",
        "import os"
      ],
      "execution_count": null,
      "outputs": []
    },
    {
      "cell_type": "code",
      "metadata": {
        "id": "_QXC1wHfM6Vn",
        "colab_type": "code",
        "colab": {}
      },
      "source": [
        "def pdf2txt (source_folder, output_folder) :#pdf파일을 text파일로 변경해 주는 함수\n",
        "    # 지정 폴더 내 파일 목록 조회 (파일만)\n",
        "    # in ~~~ 는 폴더 내 다른 서브퓰더가 있는 경우를 처리하기 위함.\n",
        "    pdf_files = [f for f in listdir(source_folder) if isfile(join(source_folder, f))]\n",
        "    \n",
        "    if not os.path.exists(output_folder):\n",
        "        os.makedirs(output_folder)\n",
        "    \n",
        "    for pdf in pdf_files :\n",
        "        pdf_filepath = source_folder + pdf\n",
        "        \n",
        "        try:    \n",
        "            pdf_filepath = source_folder + pdf\n",
        "            # pdf 파일을 text로 변환\n",
        "            print(pdf_filepath)\n",
        "            parsedPDF = parser.from_file(pdf_filepath)[\"content\"]\n",
        "\n",
        "        except Exception as e:\n",
        "            parasedPDF = ' '\n",
        "            print(f'{pdf} 에러 : {e}')\n",
        "        \n",
        "        ouput_filepath = (output_folder + pdf).replace('.pdf', '.txt')\n",
        "        with open(ouput_filepath, 'w', encoding='utf-8') as f :\n",
        "            print(ouput_filepath)\n",
        "            f.write(parsedPDF)\n",
        "            f.close()"
      ],
      "execution_count": null,
      "outputs": []
    },
    {
      "cell_type": "code",
      "metadata": {
        "id": "V8G_O_5aPlEi",
        "colab_type": "code",
        "colab": {}
      },
      "source": [
        "# pdf->txt파일로 변환\n",
        "base = os.getcwd() # 현재 작업 폴더 얻기\n",
        "source = os.path.join(base, '/content/gdrive/My Drive/MPB/') # PDF파일이 있는 드라이브로 설정\n",
        "output = os.path.join(base, '/content/gdrive/My Drive/MPB_Text/')# Text파일이 있는 드라이브로 저장\n",
        "pdf2txt(source, output) #pdf->text 파일로 변경"
      ],
      "execution_count": null,
      "outputs": []
    },
    {
      "cell_type": "code",
      "metadata": {
        "id": "hDOJEpTJXgiG",
        "colab_type": "code",
        "colab": {}
      },
      "source": [
        ""
      ],
      "execution_count": null,
      "outputs": []
    }
  ]
}