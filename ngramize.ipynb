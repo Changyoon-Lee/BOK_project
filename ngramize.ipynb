{
 "cells": [
  {
   "cell_type": "code",
   "execution_count": 2,
   "metadata": {},
   "outputs": [],
   "source": [
    "from ekonlpy.tag import Mecab\n",
    "import pandas as pd\n",
    "import glob\n",
    "from tqdm import tqdm"
   ]
  },
  {
   "cell_type": "code",
   "execution_count": 3,
   "metadata": {},
   "outputs": [],
   "source": [
    "mecab = Mecab()"
   ]
  },
  {
   "cell_type": "code",
   "execution_count": 4,
   "metadata": {},
   "outputs": [],
   "source": [
    "file_list = glob.glob('csvfile/*.csv')"
   ]
  },
  {
   "cell_type": "code",
   "execution_count": 5,
   "metadata": {},
   "outputs": [],
   "source": [
    "with open('ALL_NEWS.csv', 'w', encoding='utf=8') as f:#인포맥스, 이데일리, 연합뉴스 다합치기\n",
    "    cn=0\n",
    "    for file in file_list:\n",
    "        cn+=1\n",
    "        \n",
    "        df = pd.read_csv(file)\n",
    "        if cn==1:#첫번째에만 header를 넣었다\n",
    "            df.to_csv(f,index=False, header=True, encoding='utf-8')\n",
    "        else : \n",
    "            df.to_csv(f,index=False, header=False, encoding='utf-8')\n",
    "    "
   ]
  },
  {
   "cell_type": "code",
   "execution_count": 6,
   "metadata": {},
   "outputs": [
    {
     "name": "stdout",
     "output_type": "stream",
     "text": [
      "<class 'pandas.core.frame.DataFrame'>\n",
      "Int64Index: 220125 entries, 0 to 224867\n",
      "Data columns (total 3 columns):\n",
      " #   Column  Non-Null Count   Dtype         \n",
      "---  ------  --------------   -----         \n",
      " 0   media   220125 non-null  object        \n",
      " 1   time    220125 non-null  datetime64[ns]\n",
      " 2   body    220125 non-null  object        \n",
      "dtypes: datetime64[ns](1), object(2)\n",
      "memory usage: 6.7+ MB\n"
     ]
    }
   ],
   "source": [
    "news_file = pd.read_csv('ALL_NEWS.csv', parse_dates=['time'])\n",
    "news_file = news_file.drop_duplicates(['body'])\n",
    "news_file.info()"
   ]
  },
  {
   "cell_type": "code",
   "execution_count": 7,
   "metadata": {},
   "outputs": [
    {
     "data": {
      "text/html": [
       "<div>\n",
       "<style scoped>\n",
       "    .dataframe tbody tr th:only-of-type {\n",
       "        vertical-align: middle;\n",
       "    }\n",
       "\n",
       "    .dataframe tbody tr th {\n",
       "        vertical-align: top;\n",
       "    }\n",
       "\n",
       "    .dataframe thead th {\n",
       "        text-align: right;\n",
       "    }\n",
       "</style>\n",
       "<table border=\"1\" class=\"dataframe\">\n",
       "  <thead>\n",
       "    <tr style=\"text-align: right;\">\n",
       "      <th></th>\n",
       "      <th>media</th>\n",
       "      <th>time</th>\n",
       "      <th>body</th>\n",
       "    </tr>\n",
       "  </thead>\n",
       "  <tbody>\n",
       "    <tr>\n",
       "      <th>0</th>\n",
       "      <td>연합인포맥스</td>\n",
       "      <td>2013-02-01</td>\n",
       "      <td>1일 국채선물시장은 뚜렷한 방향성 없이 출발할 것으로 전망됐다 국채선물은 장중 코스...</td>\n",
       "    </tr>\n",
       "    <tr>\n",
       "      <th>1</th>\n",
       "      <td>연합인포맥스</td>\n",
       "      <td>2013-02-01</td>\n",
       "      <td>동부증권은 최근 논의되고 있는 외환 당국의 자본유출입 규제안 중에서 채권 거래세가 ...</td>\n",
       "    </tr>\n",
       "    <tr>\n",
       "      <th>2</th>\n",
       "      <td>연합인포맥스</td>\n",
       "      <td>2013-02-01</td>\n",
       "      <td>뉴욕증시는 경제지표가 혼조세를 나타낸 가운데 1월 비농업부문 고용지표 발표를 하루 ...</td>\n",
       "    </tr>\n",
       "    <tr>\n",
       "      <th>3</th>\n",
       "      <td>연합인포맥스</td>\n",
       "      <td>2013-02-01</td>\n",
       "      <td>단기 국채 입찰 호조…낙찰금리 하락 ', '▲獨 1월 실업률 6.8%…예상치 소폭 ...</td>\n",
       "    </tr>\n",
       "    <tr>\n",
       "      <th>4</th>\n",
       "      <td>연합인포맥스</td>\n",
       "      <td>2013-02-01</td>\n",
       "      <td>신용등급이 낮아 자본시장에서의 자금조달에 어려움을 겪고 있는 동부그룹 계열사들이 잇...</td>\n",
       "    </tr>\n",
       "    <tr>\n",
       "      <th>5</th>\n",
       "      <td>연합인포맥스</td>\n",
       "      <td>2013-02-01</td>\n",
       "      <td>1일 단기자금시장은 통안채 만기 등의 영향으로 지급준비금 분위기가 잉여세로 돌아설 ...</td>\n",
       "    </tr>\n",
       "    <tr>\n",
       "      <th>6</th>\n",
       "      <td>연합인포맥스</td>\n",
       "      <td>2013-02-01</td>\n",
       "      <td>한국은행의 팀장급 이하 인사 이동으로 국제 금융시장 통화정책 라인의 변화가 예상된다...</td>\n",
       "    </tr>\n",
       "    <tr>\n",
       "      <th>7</th>\n",
       "      <td>연합인포맥스</td>\n",
       "      <td>2013-11-18</td>\n",
       "      <td>한라그룹 계열 자동차부품 생산업체인 만도가 유동성을 선제 확보하기 위해 회사채를 발...</td>\n",
       "    </tr>\n",
       "    <tr>\n",
       "      <th>8</th>\n",
       "      <td>연합인포맥스</td>\n",
       "      <td>2013-11-18</td>\n",
       "      <td>15일미국 동부시간 뉴욕증시에서 주요 지수는 옐런 효과에 힘입어 상승했다  뉴욕증권...</td>\n",
       "    </tr>\n",
       "    <tr>\n",
       "      <th>9</th>\n",
       "      <td>연합인포맥스</td>\n",
       "      <td>2013-11-18</td>\n",
       "      <td>지난주11월11일11월15일 미국의 장기금리는 재닛 옐런 연방준비제도Fed 의장 지...</td>\n",
       "    </tr>\n",
       "  </tbody>\n",
       "</table>\n",
       "</div>"
      ],
      "text/plain": [
       "    media       time                                               body\n",
       "0  연합인포맥스 2013-02-01  1일 국채선물시장은 뚜렷한 방향성 없이 출발할 것으로 전망됐다 국채선물은 장중 코스...\n",
       "1  연합인포맥스 2013-02-01  동부증권은 최근 논의되고 있는 외환 당국의 자본유출입 규제안 중에서 채권 거래세가 ...\n",
       "2  연합인포맥스 2013-02-01  뉴욕증시는 경제지표가 혼조세를 나타낸 가운데 1월 비농업부문 고용지표 발표를 하루 ...\n",
       "3  연합인포맥스 2013-02-01  단기 국채 입찰 호조…낙찰금리 하락 ', '▲獨 1월 실업률 6.8%…예상치 소폭 ...\n",
       "4  연합인포맥스 2013-02-01  신용등급이 낮아 자본시장에서의 자금조달에 어려움을 겪고 있는 동부그룹 계열사들이 잇...\n",
       "5  연합인포맥스 2013-02-01  1일 단기자금시장은 통안채 만기 등의 영향으로 지급준비금 분위기가 잉여세로 돌아설 ...\n",
       "6  연합인포맥스 2013-02-01  한국은행의 팀장급 이하 인사 이동으로 국제 금융시장 통화정책 라인의 변화가 예상된다...\n",
       "7  연합인포맥스 2013-11-18  한라그룹 계열 자동차부품 생산업체인 만도가 유동성을 선제 확보하기 위해 회사채를 발...\n",
       "8  연합인포맥스 2013-11-18  15일미국 동부시간 뉴욕증시에서 주요 지수는 옐런 효과에 힘입어 상승했다  뉴욕증권...\n",
       "9  연합인포맥스 2013-11-18  지난주11월11일11월15일 미국의 장기금리는 재닛 옐런 연방준비제도Fed 의장 지..."
      ]
     },
     "execution_count": 7,
     "metadata": {},
     "output_type": "execute_result"
    }
   ],
   "source": [
    "news_file.head(10)"
   ]
  },
  {
   "cell_type": "code",
   "execution_count": 58,
   "metadata": {},
   "outputs": [],
   "source": [
    "news_file = news_file.sort_values('time') #시간순정렬\n",
    "news_file.reset_index(inplace = True) #인덱스리셋\n",
    "news_file = news_file[['media','time','body']] #필요한열만 불러오기\n",
    "news_file['ngramize']=0 #token화하기위환 새로운열 생성"
   ]
  },
  {
   "cell_type": "code",
   "execution_count": 59,
   "metadata": {},
   "outputs": [
    {
     "data": {
      "text/html": [
       "<div>\n",
       "<style scoped>\n",
       "    .dataframe tbody tr th:only-of-type {\n",
       "        vertical-align: middle;\n",
       "    }\n",
       "\n",
       "    .dataframe tbody tr th {\n",
       "        vertical-align: top;\n",
       "    }\n",
       "\n",
       "    .dataframe thead th {\n",
       "        text-align: right;\n",
       "    }\n",
       "</style>\n",
       "<table border=\"1\" class=\"dataframe\">\n",
       "  <thead>\n",
       "    <tr style=\"text-align: right;\">\n",
       "      <th></th>\n",
       "      <th>media</th>\n",
       "      <th>time</th>\n",
       "      <th>body</th>\n",
       "      <th>ngramize</th>\n",
       "    </tr>\n",
       "  </thead>\n",
       "  <tbody>\n",
       "    <tr>\n",
       "      <th>0</th>\n",
       "      <td>이데일리</td>\n",
       "      <td>2005-05-01</td>\n",
       "      <td>뉴욕증시 투자자들이 시장의 방향을 정하지 못한채 하루하루 재료에 과민반응하고 있다...</td>\n",
       "      <td>0</td>\n",
       "    </tr>\n",
       "    <tr>\n",
       "      <th>1</th>\n",
       "      <td>이데일리</td>\n",
       "      <td>2005-05-01</td>\n",
       "      <td>4월은 잔인했다. 어닝 시즌, 기업들이 내놓은 실적은 실망감만 불렀고 세자리수대를...</td>\n",
       "      <td>0</td>\n",
       "    </tr>\n",
       "    <tr>\n",
       "      <th>2</th>\n",
       "      <td>이데일리</td>\n",
       "      <td>2005-05-01</td>\n",
       "      <td>지난주(4월25~29일) 940선대에서 출발한 증시가 910선대에서 마감했다. `...</td>\n",
       "      <td>0</td>\n",
       "    </tr>\n",
       "    <tr>\n",
       "      <th>3</th>\n",
       "      <td>이데일리</td>\n",
       "      <td>2005-05-01</td>\n",
       "      <td>은행들이 수수료 수입에 급급한 나머지 `일단 팔고 보자`는 식의 상품판매 경쟁에 ...</td>\n",
       "      <td>0</td>\n",
       "    </tr>\n",
       "    <tr>\n",
       "      <th>4</th>\n",
       "      <td>연합뉴스</td>\n",
       "      <td>2005-05-01</td>\n",
       "      <td>이른바 은행들의 전쟁 원년인 올해 4대 시중은행의 초반 전적표가 나왔다.1일 금융계...</td>\n",
       "      <td>0</td>\n",
       "    </tr>\n",
       "    <tr>\n",
       "      <th>5</th>\n",
       "      <td>연합뉴스</td>\n",
       "      <td>2005-05-01</td>\n",
       "      <td>3월 중소기업 대출 연체율이 작년 동기에비해서는 낮아졌지만 작년 말에 비해서는 높아...</td>\n",
       "      <td>0</td>\n",
       "    </tr>\n",
       "    <tr>\n",
       "      <th>6</th>\n",
       "      <td>이데일리</td>\n",
       "      <td>2005-05-02</td>\n",
       "      <td>국제 유가가 고공행진을 지속하고 달러화 자산에 대한 우려가 커지면서, 이슬람 채권...</td>\n",
       "      <td>0</td>\n",
       "    </tr>\n",
       "    <tr>\n",
       "      <th>7</th>\n",
       "      <td>이데일리</td>\n",
       "      <td>2005-05-02</td>\n",
       "      <td>현대선물은 2일 이달 달러/원 환율은 월중 고점이 낮아지는 점진적 하락세를 지속할...</td>\n",
       "      <td>0</td>\n",
       "    </tr>\n",
       "    <tr>\n",
       "      <th>8</th>\n",
       "      <td>이데일리</td>\n",
       "      <td>2005-05-02</td>\n",
       "      <td>한덕수 경제부총리 겸 재정경제부 장관은 3일 간부회의에서 서울 등 수도권 지역에서...</td>\n",
       "      <td>0</td>\n",
       "    </tr>\n",
       "    <tr>\n",
       "      <th>9</th>\n",
       "      <td>이데일리</td>\n",
       "      <td>2005-05-02</td>\n",
       "      <td>채권금리가 2일 관망세를 보이며 보합 수준에 머물고 있다. 단 5년물과 10년물 ...</td>\n",
       "      <td>0</td>\n",
       "    </tr>\n",
       "  </tbody>\n",
       "</table>\n",
       "</div>"
      ],
      "text/plain": [
       "  media       time                                               body  \\\n",
       "0  이데일리 2005-05-01   뉴욕증시 투자자들이 시장의 방향을 정하지 못한채 하루하루 재료에 과민반응하고 있다...   \n",
       "1  이데일리 2005-05-01   4월은 잔인했다. 어닝 시즌, 기업들이 내놓은 실적은 실망감만 불렀고 세자리수대를...   \n",
       "2  이데일리 2005-05-01   지난주(4월25~29일) 940선대에서 출발한 증시가 910선대에서 마감했다. `...   \n",
       "3  이데일리 2005-05-01   은행들이 수수료 수입에 급급한 나머지 `일단 팔고 보자`는 식의 상품판매 경쟁에 ...   \n",
       "4  연합뉴스 2005-05-01  이른바 은행들의 전쟁 원년인 올해 4대 시중은행의 초반 전적표가 나왔다.1일 금융계...   \n",
       "5  연합뉴스 2005-05-01  3월 중소기업 대출 연체율이 작년 동기에비해서는 낮아졌지만 작년 말에 비해서는 높아...   \n",
       "6  이데일리 2005-05-02   국제 유가가 고공행진을 지속하고 달러화 자산에 대한 우려가 커지면서, 이슬람 채권...   \n",
       "7  이데일리 2005-05-02   현대선물은 2일 이달 달러/원 환율은 월중 고점이 낮아지는 점진적 하락세를 지속할...   \n",
       "8  이데일리 2005-05-02   한덕수 경제부총리 겸 재정경제부 장관은 3일 간부회의에서 서울 등 수도권 지역에서...   \n",
       "9  이데일리 2005-05-02   채권금리가 2일 관망세를 보이며 보합 수준에 머물고 있다. 단 5년물과 10년물 ...   \n",
       "\n",
       "   ngramize  \n",
       "0         0  \n",
       "1         0  \n",
       "2         0  \n",
       "3         0  \n",
       "4         0  \n",
       "5         0  \n",
       "6         0  \n",
       "7         0  \n",
       "8         0  \n",
       "9         0  "
      ]
     },
     "execution_count": 59,
     "metadata": {},
     "output_type": "execute_result"
    }
   ],
   "source": [
    "news_file.head(10)"
   ]
  },
  {
   "cell_type": "code",
   "execution_count": 53,
   "metadata": {},
   "outputs": [
    {
     "data": {
      "text/plain": [
       "0      [긍정, 부정, 엇비슷, 장기, 평균치, 비관, 분기, 이익, 성장률, 예상치, 없]\n",
       "1    [실제, 유가증권시장, 경우, 집중, 외국인, 매도, 전기전자, 운수, 장비, 철강...\n",
       "2    [주식자금, 증가세, 유지, 연초, 이후, 감소세, 지속, 채권형, 자금, 시중, ...\n",
       "3    [또, 은행장, 비롯, 주요, 간부, 직원, 재임, 기간, 단기, 업적주의, 장기,...\n",
       "4                        [연체율, 작년, 말, 포인트, 높, 포인트, 기록]\n",
       "5    [시중은행, 관계자, 은행, 몸집, 자산, 건전, 운용, 추세, 중소기업, 대출심사...\n",
       "6    [내수, 회복, 기대감, 가운데, 환율, 유가, 미국, 금리, 인상, 상대적, 방어...\n",
       "7                              [최소가입금액, 가입, 좌수, 제한, 없]\n",
       "8           [결국, FOMC, 전후, 기술적, 반등, 기대, 폭, 제한적, 일, 생각]\n",
       "9    [분명, 역발상, 차별화, 고객, 재발견, 기존, 경쟁, 틀, 고객, 조직, 가치,...\n",
       "Name: tokenize, dtype: object"
      ]
     },
     "execution_count": 53,
     "metadata": {},
     "output_type": "execute_result"
    }
   ],
   "source": [
    "news_file['tokenize'][:10]"
   ]
  },
  {
   "cell_type": "code",
   "execution_count": 56,
   "metadata": {},
   "outputs": [
    {
     "data": {
      "text/plain": [
       "['긍정',\n",
       " '부정',\n",
       " '엇비슷',\n",
       " '장기',\n",
       " '평균치',\n",
       " '비관',\n",
       " '분기',\n",
       " '이익',\n",
       " '성장률',\n",
       " '예상치',\n",
       " '없',\n",
       " '실제',\n",
       " '유가증권시장',\n",
       " '경우',\n",
       " '집중',\n",
       " '외국인',\n",
       " '매도',\n",
       " '전기전자',\n",
       " '운수',\n",
       " '장비',\n",
       " '철강',\n",
       " '업종',\n",
       " '집중',\n",
       " '상태',\n",
       " '음식료',\n",
       " '제약',\n",
       " '은행',\n",
       " '증권',\n",
       " '업종',\n",
       " '순매수',\n",
       " '기록',\n",
       " '주식자금',\n",
       " '증가세',\n",
       " '유지',\n",
       " '연초',\n",
       " '이후',\n",
       " '감소세',\n",
       " '지속',\n",
       " '채권형',\n",
       " '자금',\n",
       " '시중',\n",
       " '금리',\n",
       " '하락',\n",
       " '증가',\n",
       " '분석',\n",
       " '또',\n",
       " '은행장',\n",
       " '비롯',\n",
       " '주요',\n",
       " '간부',\n",
       " '직원',\n",
       " '재임',\n",
       " '기간',\n",
       " '단기',\n",
       " '업적주의',\n",
       " '장기',\n",
       " '업적주의',\n",
       " '문화',\n",
       " '정착',\n",
       " '연체율',\n",
       " '작년',\n",
       " '말',\n",
       " '포인트',\n",
       " '높',\n",
       " '포인트',\n",
       " '기록',\n",
       " '시중은행',\n",
       " '관계자',\n",
       " '은행',\n",
       " '몸집',\n",
       " '자산',\n",
       " '건전',\n",
       " '운용',\n",
       " '추세',\n",
       " '중소기업',\n",
       " '대출심사',\n",
       " '강화',\n",
       " '신용등급',\n",
       " '금리',\n",
       " '차별화',\n",
       " '전략',\n",
       " '추진',\n",
       " '밖',\n",
       " '없',\n",
       " '말']"
      ]
     },
     "execution_count": 56,
     "metadata": {},
     "output_type": "execute_result"
    }
   ],
   "source": [
    "a = news_file[:10].groupby('time').sum()\n",
    "a['tokenize'][0]"
   ]
  },
  {
   "cell_type": "code",
   "execution_count": 48,
   "metadata": {},
   "outputs": [],
   "source": [
    "from nltk.tokenize import sent_tokenize\n",
    "\n",
    "# for i in tqdm(range(len(news_file))):\n",
    "#     sentence_list=sent_tokenize(news_file['body'][i])#기사 문장단위로 나누기\n",
    "#     for sentence in sentence_list:#문장들 토큰화하기\n",
    "#         news_file['tokenize'][i] = [word[0] for word in mecab.pos(sentence) if word[1] in ['NNG', 'VA','VAX','MAG']]\n",
    "    \n",
    "    "
   ]
  },
  {
   "cell_type": "code",
   "execution_count": 10,
   "metadata": {},
   "outputs": [],
   "source": [
    "news_file.to_csv('Tokenized_News.csv')"
   ]
  },
  {
   "cell_type": "code",
   "execution_count": 1,
   "metadata": {},
   "outputs": [],
   "source": [
    "from ekonlpy.sentiment import MPCK\n",
    "mpck = MPCK()\n",
    "\n",
    "# ngrams = mpck.ngramize(tokens)\n",
    "# score = mpck.classify(tokens + ngrams, intensity_cutoff=1.5)"
   ]
  },
  {
   "cell_type": "code",
   "execution_count": 13,
   "metadata": {},
   "outputs": [
    {
     "data": {
      "text/plain": [
       "' 뉴욕증시 투자자들이 시장의 방향을 정하지 못한채 하루하루 재료에 과민반응하고 있다. 급등과 급락을 반복하는 톱날식 횡보장이 2주째 이어지고 있다. , 월가 전문가들은 이런 장세가 이번주에 절정을 이룰 것으로 내다보고 있다. 과민증세의 배경이 돼 온 연방준비제도이사회(FRB)의 공개시장위원회(FOMC)와, 경기 소강국면(soft patch)의 최신 동향을 '"
      ]
     },
     "execution_count": 13,
     "metadata": {},
     "output_type": "execute_result"
    }
   ],
   "source": [
    "news_file['body'][0][:200]"
   ]
  },
  {
   "cell_type": "code",
   "execution_count": 51,
   "metadata": {},
   "outputs": [
    {
     "data": {
      "text/plain": [
       "[]"
      ]
     },
     "execution_count": 51,
     "metadata": {},
     "output_type": "execute_result"
    }
   ],
   "source": [
    "sent0 = sent_tokenize(news_file['body'][0])[0]\n",
    "mpck.ngramize(mpck.tokenize(sent0))"
   ]
  },
  {
   "cell_type": "code",
   "execution_count": 44,
   "metadata": {},
   "outputs": [
    {
     "data": {
      "text/plain": [
       "['금리/NNG;인상/NNG',\n",
       " '금리/NNG;인상/NNG',\n",
       " '금리/NNG;인상/NNG',\n",
       " '금리/NNG;인상/NNG;긴축/NNG',\n",
       " '인상/NNG;긴축/NNG',\n",
       " '물가/NNG;오르/VV',\n",
       " '경기/NNG;둔화/NNG',\n",
       " '인플레이션/NNG;압력/NNG',\n",
       " '인플레이션/NNG;압력/NNG;억제/NNG',\n",
       " '지표/NNG;예상/NNG;나쁘/VA',\n",
       " '예상/NNG;나쁘/VA',\n",
       " '실적/NNG;양호/NNG',\n",
       " '전망/NNG;실망/NNG',\n",
       " '전망/NNG;좋/VA',\n",
       " '전망/NNG;좋/VA;않/VX',\n",
       " '긍정/NNG;부정/NNG']"
      ]
     },
     "execution_count": 44,
     "metadata": {},
     "output_type": "execute_result"
    }
   ],
   "source": [
    "ngrams = mpck.ngramize(mpck.tokenize(news_file['body'][0]), keep_overlapping_ngram=True)\n",
    "ngrams"
   ]
  },
  {
   "cell_type": "code",
   "execution_count": 45,
   "metadata": {},
   "outputs": [
    {
     "data": {
      "text/plain": [
       "['인플레이션/NNG;압력/NNG;억제/NNG',\n",
       " '금리/NNG;인상/NNG;긴축/NNG',\n",
       " '지표/NNG;예상/NNG;나쁘/VA',\n",
       " '전망/NNG;좋/VA;않/VX',\n",
       " '경기/NNG;둔화/NNG',\n",
       " '실적/NNG;양호/NNG',\n",
       " '전망/NNG;실망/NNG',\n",
       " '긍정/NNG;부정/NNG',\n",
       " '물가/NNG;오르/VV']"
      ]
     },
     "execution_count": 45,
     "metadata": {},
     "output_type": "execute_result"
    }
   ],
   "source": [
    "ngrams = mpck.ngramize(mpck.tokenize(news_file['body'][0]), keep_overlapping_ngram=False)\n",
    "ngrams"
   ]
  },
  {
   "cell_type": "code",
   "execution_count": 61,
   "metadata": {},
   "outputs": [
    {
     "name": "stderr",
     "output_type": "stream",
     "text": [
      "100%|████████████████████████████████████████████████████████████████████████| 220125/220125 [1:25:46<00:00, 42.77it/s]\n"
     ]
    }
   ],
   "source": [
    "for i in tqdm(range(len(news_file['body']))):\n",
    "    news_file['ngramize'][i] = mpck.ngramize(mpck.tokenize(news_file['body'][i]))    "
   ]
  },
  {
   "cell_type": "code",
   "execution_count": 62,
   "metadata": {},
   "outputs": [],
   "source": [
    "import pickle\n",
    "news_file = news_file[['time','ngramize']]\n",
    "news_set = news_file.groupby('time').sum()"
   ]
  },
  {
   "cell_type": "code",
   "execution_count": 63,
   "metadata": {},
   "outputs": [],
   "source": [
    "news_set.to_pickle(\"news_set.pkl\")\n",
    "\n",
    "# df = pd.read_pickle(\"df.pkl\")"
   ]
  },
  {
   "cell_type": "code",
   "execution_count": 75,
   "metadata": {},
   "outputs": [
    {
     "data": {
      "text/html": [
       "<div>\n",
       "<style scoped>\n",
       "    .dataframe tbody tr th:only-of-type {\n",
       "        vertical-align: middle;\n",
       "    }\n",
       "\n",
       "    .dataframe tbody tr th {\n",
       "        vertical-align: top;\n",
       "    }\n",
       "\n",
       "    .dataframe thead th {\n",
       "        text-align: right;\n",
       "    }\n",
       "</style>\n",
       "<table border=\"1\" class=\"dataframe\">\n",
       "  <thead>\n",
       "    <tr style=\"text-align: right;\">\n",
       "      <th></th>\n",
       "      <th>ngramize</th>\n",
       "    </tr>\n",
       "    <tr>\n",
       "      <th>time</th>\n",
       "      <th></th>\n",
       "    </tr>\n",
       "  </thead>\n",
       "  <tbody>\n",
       "    <tr>\n",
       "      <th>2005-05-01</th>\n",
       "      <td>[인플레이션/NNG;압력/NNG;억제/NNG, 금리/NNG;인상/NNG;긴축/NNG...</td>\n",
       "    </tr>\n",
       "    <tr>\n",
       "      <th>2005-05-02</th>\n",
       "      <td>[국제/NNG;유가/NNG;고공행진/NNG, 국제/NNG;유가/NNG;강세/NNG,...</td>\n",
       "    </tr>\n",
       "    <tr>\n",
       "      <th>2005-05-03</th>\n",
       "      <td>[fed/NNG;ff/NNG;금리/NNG;인상/NNG, 저점/NNG;경계/NNG, ...</td>\n",
       "    </tr>\n",
       "    <tr>\n",
       "      <th>2005-05-04</th>\n",
       "      <td>[금리/NNG;인상/NNG;가능성/NNG;줄/VV, 채권/NNG;금리/NNG;소폭/...</td>\n",
       "    </tr>\n",
       "    <tr>\n",
       "      <th>2005-05-05</th>\n",
       "      <td>[대출/NNG;한도/NNG;최대/NNG, 경기/NNG;둔화/NNG;우려/NNG;금리...</td>\n",
       "    </tr>\n",
       "  </tbody>\n",
       "</table>\n",
       "</div>"
      ],
      "text/plain": [
       "                                                     ngramize\n",
       "time                                                         \n",
       "2005-05-01  [인플레이션/NNG;압력/NNG;억제/NNG, 금리/NNG;인상/NNG;긴축/NNG...\n",
       "2005-05-02  [국제/NNG;유가/NNG;고공행진/NNG, 국제/NNG;유가/NNG;강세/NNG,...\n",
       "2005-05-03  [fed/NNG;ff/NNG;금리/NNG;인상/NNG, 저점/NNG;경계/NNG, ...\n",
       "2005-05-04  [금리/NNG;인상/NNG;가능성/NNG;줄/VV, 채권/NNG;금리/NNG;소폭/...\n",
       "2005-05-05  [대출/NNG;한도/NNG;최대/NNG, 경기/NNG;둔화/NNG;우려/NNG;금리..."
      ]
     },
     "execution_count": 75,
     "metadata": {},
     "output_type": "execute_result"
    }
   ],
   "source": [
    "news_set.head()"
   ]
  },
  {
   "cell_type": "code",
   "execution_count": 77,
   "metadata": {},
   "outputs": [],
   "source": [
    "all_token = news_set.sum(axis=0)"
   ]
  },
  {
   "cell_type": "code",
   "execution_count": 83,
   "metadata": {},
   "outputs": [],
   "source": [
    "import numpy as np\n",
    "all_tokens = np.array(all_token)"
   ]
  },
  {
   "cell_type": "code",
   "execution_count": 90,
   "metadata": {},
   "outputs": [],
   "source": [
    "df_tokens = pd.DataFrame(all_tokens[0], columns=['ngrams'])"
   ]
  },
  {
   "cell_type": "code",
   "execution_count": 96,
   "metadata": {},
   "outputs": [],
   "source": [
    "val = df_tokens['ngrams'].value_counts()"
   ]
  },
  {
   "cell_type": "code",
   "execution_count": 101,
   "metadata": {},
   "outputs": [],
   "source": [
    "good_val = val[val>15]"
   ]
  },
  {
   "cell_type": "code",
   "execution_count": 105,
   "metadata": {},
   "outputs": [],
   "source": [
    "callrate = pd.read_csv('callrate_month_upanddown.csv')"
   ]
  },
  {
   "cell_type": "code",
   "execution_count": null,
   "metadata": {},
   "outputs": [],
   "source": [
    "시작 30 끝 4657"
   ]
  },
  {
   "cell_type": "code",
   "execution_count": 112,
   "metadata": {},
   "outputs": [],
   "source": [
    "callrate = callrate[30:4658][['date','up_down']]"
   ]
  },
  {
   "cell_type": "code",
   "execution_count": 119,
   "metadata": {},
   "outputs": [],
   "source": [
    "callrate = callrate.rename(columns={'date':'time'})\n",
    "callrate = callrate.set_index('time')"
   ]
  },
  {
   "cell_type": "code",
   "execution_count": 121,
   "metadata": {},
   "outputs": [],
   "source": [
    "merged_new = news_set.merge(callrate, left_index=True, right_index=True)"
   ]
  },
  {
   "cell_type": "code",
   "execution_count": 122,
   "metadata": {},
   "outputs": [
    {
     "data": {
      "text/html": [
       "<div>\n",
       "<style scoped>\n",
       "    .dataframe tbody tr th:only-of-type {\n",
       "        vertical-align: middle;\n",
       "    }\n",
       "\n",
       "    .dataframe tbody tr th {\n",
       "        vertical-align: top;\n",
       "    }\n",
       "\n",
       "    .dataframe thead th {\n",
       "        text-align: right;\n",
       "    }\n",
       "</style>\n",
       "<table border=\"1\" class=\"dataframe\">\n",
       "  <thead>\n",
       "    <tr style=\"text-align: right;\">\n",
       "      <th></th>\n",
       "      <th>ngramize</th>\n",
       "      <th>up_down</th>\n",
       "    </tr>\n",
       "    <tr>\n",
       "      <th>time</th>\n",
       "      <th></th>\n",
       "      <th></th>\n",
       "    </tr>\n",
       "  </thead>\n",
       "  <tbody>\n",
       "    <tr>\n",
       "      <th>2005-05-01</th>\n",
       "      <td>[인플레이션/NNG;압력/NNG;억제/NNG, 금리/NNG;인상/NNG;긴축/NNG...</td>\n",
       "      <td>상승</td>\n",
       "    </tr>\n",
       "    <tr>\n",
       "      <th>2005-05-02</th>\n",
       "      <td>[국제/NNG;유가/NNG;고공행진/NNG, 국제/NNG;유가/NNG;강세/NNG,...</td>\n",
       "      <td>상승</td>\n",
       "    </tr>\n",
       "    <tr>\n",
       "      <th>2005-05-03</th>\n",
       "      <td>[fed/NNG;ff/NNG;금리/NNG;인상/NNG, 저점/NNG;경계/NNG, ...</td>\n",
       "      <td>상승</td>\n",
       "    </tr>\n",
       "    <tr>\n",
       "      <th>2005-05-04</th>\n",
       "      <td>[금리/NNG;인상/NNG;가능성/NNG;줄/VV, 채권/NNG;금리/NNG;소폭/...</td>\n",
       "      <td>하락</td>\n",
       "    </tr>\n",
       "    <tr>\n",
       "      <th>2005-05-05</th>\n",
       "      <td>[대출/NNG;한도/NNG;최대/NNG, 경기/NNG;둔화/NNG;우려/NNG;금리...</td>\n",
       "      <td>하락</td>\n",
       "    </tr>\n",
       "    <tr>\n",
       "      <th>...</th>\n",
       "      <td>...</td>\n",
       "      <td>...</td>\n",
       "    </tr>\n",
       "    <tr>\n",
       "      <th>2017-12-27</th>\n",
       "      <td>[금리/NNG;국제/NNG;유가/NNG;급등/NNG, 위험자산/NNG;선호/NNG;...</td>\n",
       "      <td>상승</td>\n",
       "    </tr>\n",
       "    <tr>\n",
       "      <th>2017-12-28</th>\n",
       "      <td>[경제/NNG;성장률/NNG;물가/NNG;상승/NNG, 채권/NNG;가격/NNG;하...</td>\n",
       "      <td>상승</td>\n",
       "    </tr>\n",
       "    <tr>\n",
       "      <th>2017-12-29</th>\n",
       "      <td>[ff/NNG;금리선물/NNG;시장/NNG;금리/NNG;인상/NNG, 유가/NNG;...</td>\n",
       "      <td>상승</td>\n",
       "    </tr>\n",
       "    <tr>\n",
       "      <th>2017-12-30</th>\n",
       "      <td>[ff/NNG;금리선물/NNG;시장/NNG;금리/NNG;인상/NNG, 세계/NNG;...</td>\n",
       "      <td>상승</td>\n",
       "    </tr>\n",
       "    <tr>\n",
       "      <th>2017-12-31</th>\n",
       "      <td>[가계/NNG;대출/NNG;상환/NNG;부담/NNG, gdp/NNG;성장률/NNG;...</td>\n",
       "      <td>상승</td>\n",
       "    </tr>\n",
       "  </tbody>\n",
       "</table>\n",
       "<p>4616 rows × 2 columns</p>\n",
       "</div>"
      ],
      "text/plain": [
       "                                                     ngramize up_down\n",
       "time                                                                 \n",
       "2005-05-01  [인플레이션/NNG;압력/NNG;억제/NNG, 금리/NNG;인상/NNG;긴축/NNG...      상승\n",
       "2005-05-02  [국제/NNG;유가/NNG;고공행진/NNG, 국제/NNG;유가/NNG;강세/NNG,...      상승\n",
       "2005-05-03  [fed/NNG;ff/NNG;금리/NNG;인상/NNG, 저점/NNG;경계/NNG, ...      상승\n",
       "2005-05-04  [금리/NNG;인상/NNG;가능성/NNG;줄/VV, 채권/NNG;금리/NNG;소폭/...      하락\n",
       "2005-05-05  [대출/NNG;한도/NNG;최대/NNG, 경기/NNG;둔화/NNG;우려/NNG;금리...      하락\n",
       "...                                                       ...     ...\n",
       "2017-12-27  [금리/NNG;국제/NNG;유가/NNG;급등/NNG, 위험자산/NNG;선호/NNG;...      상승\n",
       "2017-12-28  [경제/NNG;성장률/NNG;물가/NNG;상승/NNG, 채권/NNG;가격/NNG;하...      상승\n",
       "2017-12-29  [ff/NNG;금리선물/NNG;시장/NNG;금리/NNG;인상/NNG, 유가/NNG;...      상승\n",
       "2017-12-30  [ff/NNG;금리선물/NNG;시장/NNG;금리/NNG;인상/NNG, 세계/NNG;...      상승\n",
       "2017-12-31  [가계/NNG;대출/NNG;상환/NNG;부담/NNG, gdp/NNG;성장률/NNG;...      상승\n",
       "\n",
       "[4616 rows x 2 columns]"
      ]
     },
     "execution_count": 122,
     "metadata": {},
     "output_type": "execute_result"
    }
   ],
   "source": [
    "merged_new"
   ]
  },
  {
   "cell_type": "code",
   "execution_count": 166,
   "metadata": {},
   "outputs": [],
   "source": [
    "mpb = pd.read_csv('MPB.csv', header=None, names=['body','none'], index_col=0)\n",
    "# bond = pd.read_csv('날짜별 채권정보.csv')"
   ]
  },
  {
   "cell_type": "code",
   "execution_count": 168,
   "metadata": {},
   "outputs": [
    {
     "data": {
      "text/html": [
       "<div>\n",
       "<style scoped>\n",
       "    .dataframe tbody tr th:only-of-type {\n",
       "        vertical-align: middle;\n",
       "    }\n",
       "\n",
       "    .dataframe tbody tr th {\n",
       "        vertical-align: top;\n",
       "    }\n",
       "\n",
       "    .dataframe thead th {\n",
       "        text-align: right;\n",
       "    }\n",
       "</style>\n",
       "<table border=\"1\" class=\"dataframe\">\n",
       "  <thead>\n",
       "    <tr style=\"text-align: right;\">\n",
       "      <th></th>\n",
       "      <th>body</th>\n",
       "    </tr>\n",
       "  </thead>\n",
       "  <tbody>\n",
       "    <tr>\n",
       "      <th>2017.11.30</th>\n",
       "      <td>['일부 위원은 최근 미국의 금융·경제상황을 보면 금년 12월 미 연준이 금리를  ...</td>\n",
       "    </tr>\n",
       "    <tr>\n",
       "      <th>2017.10.19</th>\n",
       "      <td>['일부 위원은 최근 미국에서는 임금상승세가 확대되고 세제개혁에 대한 기대  감이 ...</td>\n",
       "    </tr>\n",
       "    <tr>\n",
       "      <th>2017.8.31</th>\n",
       "      <td>['일부 위원은 미국의 금리 정상화 행보에도 불구하고 미 달러화가 약세기조를  지속...</td>\n",
       "    </tr>\n",
       "    <tr>\n",
       "      <th>2017.7.13</th>\n",
       "      <td>['일부 위원은 주요국에서는 성장과 고용이 회복국면의 정점을 향해 가고 있음.', ...</td>\n",
       "    </tr>\n",
       "    <tr>\n",
       "      <th>2017.5.25</th>\n",
       "      <td>['일부 위원은 최근 국제금융시장이 안정된 모습을 지속하는 가운데 국내금융  시장도...</td>\n",
       "    </tr>\n",
       "  </tbody>\n",
       "</table>\n",
       "</div>"
      ],
      "text/plain": [
       "                                                         body\n",
       "2017.11.30  ['일부 위원은 최근 미국의 금융·경제상황을 보면 금년 12월 미 연준이 금리를  ...\n",
       "2017.10.19  ['일부 위원은 최근 미국에서는 임금상승세가 확대되고 세제개혁에 대한 기대  감이 ...\n",
       "2017.8.31   ['일부 위원은 미국의 금리 정상화 행보에도 불구하고 미 달러화가 약세기조를  지속...\n",
       "2017.7.13   ['일부 위원은 주요국에서는 성장과 고용이 회복국면의 정점을 향해 가고 있음.', ...\n",
       "2017.5.25   ['일부 위원은 최근 국제금융시장이 안정된 모습을 지속하는 가운데 국내금융  시장도..."
      ]
     },
     "execution_count": 168,
     "metadata": {},
     "output_type": "execute_result"
    }
   ],
   "source": [
    "mpb= mpb[['body']]\n",
    "mpb.head()\n",
    "mpb['body']"
   ]
  },
  {
   "cell_type": "code",
   "execution_count": 147,
   "metadata": {},
   "outputs": [],
   "source": [
    "for i in "
   ]
  },
  {
   "cell_type": "code",
   "execution_count": 158,
   "metadata": {},
   "outputs": [
    {
     "data": {
      "text/html": [
       "<div>\n",
       "<style scoped>\n",
       "    .dataframe tbody tr th:only-of-type {\n",
       "        vertical-align: middle;\n",
       "    }\n",
       "\n",
       "    .dataframe tbody tr th {\n",
       "        vertical-align: top;\n",
       "    }\n",
       "\n",
       "    .dataframe thead th {\n",
       "        text-align: right;\n",
       "    }\n",
       "</style>\n",
       "<table border=\"1\" class=\"dataframe\">\n",
       "  <thead>\n",
       "    <tr style=\"text-align: right;\">\n",
       "      <th></th>\n",
       "      <th>내용</th>\n",
       "    </tr>\n",
       "    <tr>\n",
       "      <th>날짜</th>\n",
       "      <th></th>\n",
       "    </tr>\n",
       "  </thead>\n",
       "  <tbody>\n",
       "    <tr>\n",
       "      <th>2008-04-01</th>\n",
       "      <td>월간채권투자 월 과 미국에서는 여전히 연준은 물론 정부와 의회 역시 신용경색 해소를...</td>\n",
       "    </tr>\n",
       "    <tr>\n",
       "      <th>2008-04-07</th>\n",
       "      <td>월 일돌아온 박스권 서철수 다만 하단보다는 상단 테스트 가능성에 무게 대우증권 리서...</td>\n",
       "    </tr>\n",
       "    <tr>\n",
       "      <th>2008-04-14</th>\n",
       "      <td>총재의 변신은 무죄다 월 금통위는 정부한은간 합의의 반영일 수도 예상대로 올해 한국...</td>\n",
       "    </tr>\n",
       "    <tr>\n",
       "      <th>2008-04-21</th>\n",
       "      <td>항상 열려는 있는 가능성 경기 전망은 비교적 분명 인플레 명분이 시점 결정할 것 현...</td>\n",
       "    </tr>\n",
       "    <tr>\n",
       "      <th>2008-04-28</th>\n",
       "      <td>임박한 기회 이후 원자재 가격 상승세 둔화 여부에 관심 대내외 요인이 금리에 상반된...</td>\n",
       "    </tr>\n",
       "  </tbody>\n",
       "</table>\n",
       "</div>"
      ],
      "text/plain": [
       "                                                           내용\n",
       "날짜                                                           \n",
       "2008-04-01  월간채권투자 월 과 미국에서는 여전히 연준은 물론 정부와 의회 역시 신용경색 해소를...\n",
       "2008-04-07  월 일돌아온 박스권 서철수 다만 하단보다는 상단 테스트 가능성에 무게 대우증권 리서...\n",
       "2008-04-14  총재의 변신은 무죄다 월 금통위는 정부한은간 합의의 반영일 수도 예상대로 올해 한국...\n",
       "2008-04-21  항상 열려는 있는 가능성 경기 전망은 비교적 분명 인플레 명분이 시점 결정할 것 현...\n",
       "2008-04-28  임박한 기회 이후 원자재 가격 상승세 둔화 여부에 관심 대내외 요인이 금리에 상반된..."
      ]
     },
     "execution_count": 158,
     "metadata": {},
     "output_type": "execute_result"
    }
   ],
   "source": [
    "bond = pd.read_csv('날짜별 채권정보.csv', parse_dates=['날짜'], index_col=['날짜'])\n",
    "bond = bond[['내용']]\n",
    "bond.head()"
   ]
  },
  {
   "cell_type": "markdown",
   "metadata": {},
   "source": [
    "## 토큰수 세기"
   ]
  },
  {
   "cell_type": "code",
   "execution_count": null,
   "metadata": {},
   "outputs": [],
   "source": []
  },
  {
   "cell_type": "code",
   "execution_count": 124,
   "metadata": {},
   "outputs": [
    {
     "name": "stdout",
     "output_type": "stream",
     "text": [
      "haw_cnt : 627746\n",
      "haw_cnt : 711025\n"
     ]
    }
   ],
   "source": [
    "from collections import defaultdict\n",
    "\n",
    "# 범주에 속하는 토큰수 세기 1(스팸), 0(정상))\n",
    "haw_cnt = 0\n",
    "dov_cnt = 0\n",
    "\n",
    "# 토큰별로 문서내 빈도수 카운팅\n",
    "wordfreq = defaultdict(lambda : [0, 0])\n",
    "\n",
    "#label 0 이 hawkish   1은 dovish라 가정\n",
    "for ngrams, label in zip(merged_new['ngramize'], merged_new['up_down']) :\n",
    "    \n",
    "    for ngram in ngrams:\n",
    "        if label == '상승':\n",
    "            wordfreq[ngram][0] += 1\n",
    "        elif label == '하락':\n",
    "            wordfreq[ngram][1] += 1\n",
    "\n",
    "for key, (cnt0, cnt1) in wordfreq.items():\n",
    "    haw_cnt += cnt0\n",
    "    dov_cnt += cnt1\n",
    "\n",
    "print('haw_cnt : {}'.format(haw_cnt))\n",
    "print('haw_cnt : {}'.format(dov_cnt))"
   ]
  },
  {
   "cell_type": "code",
   "execution_count": 126,
   "metadata": {},
   "outputs": [
    {
     "data": {
      "text/plain": [
       "59706"
      ]
     },
     "execution_count": 126,
     "metadata": {},
     "output_type": "execute_result"
    }
   ],
   "source": [
    "len(wordfreq)"
   ]
  },
  {
   "cell_type": "code",
   "execution_count": null,
   "metadata": {},
   "outputs": [],
   "source": []
  },
  {
   "cell_type": "code",
   "execution_count": null,
   "metadata": {},
   "outputs": [],
   "source": []
  },
  {
   "cell_type": "code",
   "execution_count": null,
   "metadata": {},
   "outputs": [],
   "source": []
  },
  {
   "cell_type": "code",
   "execution_count": null,
   "metadata": {},
   "outputs": [],
   "source": []
  },
  {
   "cell_type": "code",
   "execution_count": null,
   "metadata": {},
   "outputs": [],
   "source": []
  },
  {
   "cell_type": "code",
   "execution_count": null,
   "metadata": {},
   "outputs": [],
   "source": []
  },
  {
   "cell_type": "code",
   "execution_count": null,
   "metadata": {},
   "outputs": [],
   "source": []
  },
  {
   "cell_type": "code",
   "execution_count": null,
   "metadata": {},
   "outputs": [],
   "source": []
  },
  {
   "cell_type": "code",
   "execution_count": null,
   "metadata": {},
   "outputs": [],
   "source": []
  },
  {
   "cell_type": "code",
   "execution_count": 33,
   "metadata": {
    "scrolled": true
   },
   "outputs": [
    {
     "data": {
      "text/plain": [
       "0.25004523108201854"
      ]
     },
     "execution_count": 33,
     "metadata": {},
     "output_type": "execute_result"
    }
   ],
   "source": [
    "features = {token: True for token in tokens}\n",
    "result = classifier.prob_classify(features)\n",
    "result.prob('pos')"
   ]
  },
  {
   "cell_type": "code",
   "execution_count": 34,
   "metadata": {},
   "outputs": [
    {
     "data": {
      "text/plain": [
       "0.7499547689179813"
      ]
     },
     "execution_count": 34,
     "metadata": {},
     "output_type": "execute_result"
    }
   ],
   "source": [
    "result.prob('neg')"
   ]
  },
  {
   "cell_type": "code",
   "execution_count": 35,
   "metadata": {},
   "outputs": [],
   "source": [
    "cpdist = classifier._feature_probdist"
   ]
  },
  {
   "cell_type": "code",
   "execution_count": 39,
   "metadata": {},
   "outputs": [
    {
     "data": {
      "text/plain": [
       "<ELEProbDist based on 471 samples>"
      ]
     },
     "execution_count": 39,
     "metadata": {},
     "output_type": "execute_result"
    }
   ],
   "source": [
    "cpdist[('neg', '또/MAG')]"
   ]
  },
  {
   "cell_type": "code",
   "execution_count": 40,
   "metadata": {},
   "outputs": [
    {
     "data": {
      "text/plain": [
       "1322"
      ]
     },
     "execution_count": 40,
     "metadata": {},
     "output_type": "execute_result"
    }
   ],
   "source": [
    "fcnt = len(set([w for l, w in cpdist.keys()]))\n",
    "fcnt"
   ]
  },
  {
   "cell_type": "code",
   "execution_count": null,
   "metadata": {},
   "outputs": [],
   "source": []
  },
  {
   "cell_type": "code",
   "execution_count": null,
   "metadata": {},
   "outputs": [],
   "source": []
  },
  {
   "cell_type": "code",
   "execution_count": 12,
   "metadata": {},
   "outputs": [],
   "source": [
    "with open('data.pickle', 'wb') as f:\n",
    "    pickle.dump(news_file['tokenize'], f)\n",
    "    \n",
    "      with open(file_path, 'rb') as f:\n",
    "                self.classifier = pickle.load(f)"
   ]
  },
  {
   "cell_type": "code",
   "execution_count": 13,
   "metadata": {},
   "outputs": [
    {
     "data": {
      "text/plain": [
       "0           [긍정, 부정, 엇비슷, 장기, 평균치, 비관, 분기, 이익, 성장률, 예상치, 없]\n",
       "1         [실제, 유가증권시장, 경우, 집중, 외국인, 매도, 전기전자, 운수, 장비, 철강...\n",
       "2         [주식자금, 증가세, 유지, 연초, 이후, 감소세, 지속, 채권형, 자금, 시중, ...\n",
       "3         [또, 은행장, 비롯, 주요, 간부, 직원, 재임, 기간, 단기, 업적주의, 장기,...\n",
       "4                             [연체율, 작년, 말, 포인트, 높, 포인트, 기록]\n",
       "                                ...                        \n",
       "220120                                                   []\n",
       "220121        [직원, 스스로, 용기, 한발, 도전, 퍼스트, 펭귄, 진취, 자세, 일, 당부]\n",
       "220122    [유통, 업계, 관계자, 전년, 유통, 업, 경기, 소비, 호전, 전망, 곳곳, 암...\n",
       "220123    [지난해, 신규, 취급액, 기준, 코픽스, 잔액, 기준, 코픽스, 고려, 사이, 신...\n",
       "220124    [이어, 난제, 문제, 전, 근본적, 해결책, 마련, 대비, 화근, 미연, 방지, ...\n",
       "Name: tokenize, Length: 220125, dtype: object"
      ]
     },
     "execution_count": 13,
     "metadata": {},
     "output_type": "execute_result"
    }
   ],
   "source": [
    "news_file['tokenize']"
   ]
  }
 ],
 "metadata": {
  "kernelspec": {
   "display_name": "Python 3",
   "language": "python",
   "name": "python3"
  },
  "language_info": {
   "codemirror_mode": {
    "name": "ipython",
    "version": 3
   },
   "file_extension": ".py",
   "mimetype": "text/x-python",
   "name": "python",
   "nbconvert_exporter": "python",
   "pygments_lexer": "ipython3",
   "version": "3.6.10"
  }
 },
 "nbformat": 4,
 "nbformat_minor": 4
}
