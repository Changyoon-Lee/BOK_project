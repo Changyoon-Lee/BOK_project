{
  "nbformat": 4,
  "nbformat_minor": 0,
  "metadata": {
    "kernelspec": {
      "display_name": "Python 3",
      "language": "python",
      "name": "python3"
    },
    "language_info": {
      "codemirror_mode": {
        "name": "ipython",
        "version": 3
      },
      "file_extension": ".py",
      "mimetype": "text/x-python",
      "name": "python",
      "nbconvert_exporter": "python",
      "pygments_lexer": "ipython3",
      "version": "3.8.3"
    },
    "colab": {
      "name": "의사록 데이터 ver.1.ipynb",
      "provenance": [],
      "include_colab_link": true
    }
  },
  "cells": [
    {
      "cell_type": "markdown",
      "metadata": {
        "id": "view-in-github",
        "colab_type": "text"
      },
      "source": [
        "<a href=\"https://colab.research.google.com/github/Changyoon-Lee/mulcamB_1/blob/master/%EC%9D%98%EC%82%AC%EB%A1%9D_%EB%8D%B0%EC%9D%B4%ED%84%B0_ver_1.ipynb\" target=\"_parent\"><img src=\"https://colab.research.google.com/assets/colab-badge.svg\" alt=\"Open In Colab\"/></a>"
      ]
    },
    {
      "cell_type": "markdown",
      "metadata": {
        "id": "78p6nHk18J7H",
        "colab_type": "text"
      },
      "source": [
        "## 의사록에서 PDF파일 불러오기\n"
      ]
    },
    {
      "cell_type": "code",
      "metadata": {
        "id": "xJWrpyDC8Kft",
        "colab_type": "code",
        "colab": {}
      },
      "source": [
        ""
      ],
      "execution_count": null,
      "outputs": []
    },
    {
      "cell_type": "code",
      "metadata": {
        "id": "z5YspS1c8J7I",
        "colab_type": "code",
        "colab": {}
      },
      "source": [
        "import requests\n",
        "from bs4 import BeautifulSoup"
      ],
      "execution_count": null,
      "outputs": []
    },
    {
      "cell_type": "code",
      "metadata": {
        "id": "6Ag4JHXF8J7N",
        "colab_type": "code",
        "colab": {}
      },
      "source": [
        "total_list = [] # 전체 리스트를 가져오고]\n",
        "\n",
        "for i in range(32,33):\n",
        "    url = 'https://www.bok.or.kr/portal/bbs/B0000245/list.do?menuNo=200761'\n",
        "    query = {\n",
        "        'pageIndex' : i\n",
        "      }\n",
        "    resp = requests.get(url, query)\n",
        "    soup = BeautifulSoup(resp.content, 'lxml')\n",
        "    tag = soup.select('div.fileGoupBox a')\n",
        "    # print(len(tag))\n",
        "    total_list.extend(tag)\n",
        "\n",
        "    pdf_list = []\n",
        "    for idx,t in enumerate(total_list):\n",
        "      if total_list[idx].attrs['title'][-3:] == 'pdf': #tag에서 .attrs['href'] href만 가져오기\n",
        "        pdf_list.append(total_list[idx]) #.attrs['href']"
      ],
      "execution_count": null,
      "outputs": []
    },
    {
      "cell_type": "code",
      "metadata": {
        "id": "vzL-yprg8J7R",
        "colab_type": "code",
        "colab": {}
      },
      "source": [
        "pdf_href_list = []\n",
        "for i in pdf_list:\n",
        "  pdf_href_list.append(i.attrs['href'])\n",
        "\n",
        "# pdf_title_list = []\n",
        "# for i in pdf_list:\n",
        "#   pdf_title_list.append(i.attrs['title'])\n",
        "\n",
        "site = 'https://www.bok.or.kr'\n",
        "\n",
        "url = []\n",
        "for i in range(len(pdf_href_list)):\n",
        "   url.append(site + pdf_href_list[i])"
      ],
      "execution_count": null,
      "outputs": []
    },
    {
      "cell_type": "code",
      "metadata": {
        "id": "VdK4p01x8J7V",
        "colab_type": "code",
        "colab": {}
      },
      "source": [
        "for i in range(len(url)):\n",
        "  mpb = requests.get(url[i])\n",
        "  with open('/content/gdrive/My Drive/MPB/{}.pdf'.format(i), 'wb') as f: #저장하는 폴더\n",
        "    f.write(mpb.content)"
      ],
      "execution_count": null,
      "outputs": []
    },
    {
      "cell_type": "markdown",
      "metadata": {
        "id": "fjBz1kfg8J7Y",
        "colab_type": "text"
      },
      "source": [
        "## pdf file ->text file 저장\n"
      ]
    },
    {
      "cell_type": "code",
      "metadata": {
        "id": "0xHmSLoh8J7Z",
        "colab_type": "code",
        "colab": {}
      },
      "source": [
        "pip install tika"
      ],
      "execution_count": null,
      "outputs": []
    },
    {
      "cell_type": "code",
      "metadata": {
        "id": "cN9ekgyK8J7c",
        "colab_type": "code",
        "colab": {}
      },
      "source": [
        "import re\n",
        "from tika import parser #https://github.com/chrismattmann/tika-python\n",
        "import shutil\n",
        "from os import listdir\n",
        "from os.path import isfile, join\n",
        "import os"
      ],
      "execution_count": null,
      "outputs": []
    },
    {
      "cell_type": "code",
      "metadata": {
        "id": "Lv5L15mM8J7g",
        "colab_type": "code",
        "colab": {}
      },
      "source": [
        "def pdf2txt (source_folder, output_folder) :#pdf파일을 text파일로 변경해 주는 함수\n",
        "    # 지정 폴더 내 파일 목록 조회 (파일만)\n",
        "    # in ~~~ 는 폴더 내 다른 서브퓰더가 있는 경우를 처리하기 위함.\n",
        "    pdf_files = [f for f in listdir(source_folder) if isfile(join(source_folder, f))]\n",
        "    \n",
        "    if not os.path.exists(output_folder):\n",
        "        os.makedirs(output_folder)\n",
        "    \n",
        "    for pdf in pdf_files :\n",
        "        pdf_filepath = source_folder + pdf\n",
        "        \n",
        "        try:    \n",
        "            pdf_filepath = source_folder + pdf\n",
        "            # pdf 파일을 text로 변환\n",
        "            print(pdf_filepath)\n",
        "            parsedPDF = parser.from_file(pdf_filepath)[\"content\"]\n",
        "\n",
        "        except Exception as e:\n",
        "            parasedPDF = ' '\n",
        "            print(f'{pdf} 에러 : {e}')\n",
        "        \n",
        "        ouput_filepath = (output_folder + pdf).replace('.pdf', '.txt')\n",
        "        with open(ouput_filepath, 'w', encoding='utf-8') as f :\n",
        "            print(ouput_filepath)\n",
        "            f.write(parsedPDF)\n",
        "            f.close()"
      ],
      "execution_count": null,
      "outputs": []
    },
    {
      "cell_type": "code",
      "metadata": {
        "id": "eA4M7a9X8J7l",
        "colab_type": "code",
        "colab": {}
      },
      "source": [
        "# pdf->txt파일로 변환\n",
        "base = os.getcwd() # 현재 작업 폴더 얻기\n",
        "source = os.path.join(base, '/content/gdrive/My Drive/') #PDF파일이 있는 드라이브로 설정\n",
        "output = os.path.join(base, '/content/gdrive/My Drive/MPB_Text/')#Text파일이 있는 드라이브로 저장\n",
        "pdf2txt(source, output) #pdf->text 파일로 변경"
      ],
      "execution_count": null,
      "outputs": []
    },
    {
      "cell_type": "markdown",
      "metadata": {
        "id": "qWL3f_Vg8J7p",
        "colab_type": "text"
      },
      "source": [
        "## txt데이터 가져오기"
      ]
    },
    {
      "cell_type": "code",
      "metadata": {
        "id": "25AN-vnJ8J7p",
        "colab_type": "code",
        "colab": {}
      },
      "source": [
        "k = []\n",
        "for i in range(7,272):\n",
        "    filename = r'C:\\Users\\junshey\\jupyter\\MPB_Text\\{}.txt'.format(i) # 저장 폴더\n",
        "    k.append(filename)\n",
        "len(k)\n"
      ],
      "execution_count": null,
      "outputs": []
    },
    {
      "cell_type": "code",
      "metadata": {
        "id": "aJaf1Clw8J7t",
        "colab_type": "code",
        "colab": {}
      },
      "source": [
        "k[1]"
      ],
      "execution_count": null,
      "outputs": []
    },
    {
      "cell_type": "code",
      "metadata": {
        "id": "t2dX6q6n8J7y",
        "colab_type": "code",
        "colab": {}
      },
      "source": [
        "t = []\n",
        "for i in range(len(k)):\n",
        "    with open(k[i],'r',encoding='UTF-8') as file_object:\n",
        "        contents = file_object.read()\n",
        "        t.append(contents)"
      ],
      "execution_count": null,
      "outputs": []
    },
    {
      "cell_type": "code",
      "metadata": {
        "id": "vLyW9zoV8J75",
        "colab_type": "code",
        "colab": {}
      },
      "source": [
        "df_text = pd.DataFrame(t, columns=['text'])"
      ],
      "execution_count": null,
      "outputs": []
    },
    {
      "cell_type": "markdown",
      "metadata": {
        "id": "FYVNt63z8J7_",
        "colab_type": "text"
      },
      "source": [
        "## date "
      ]
    },
    {
      "cell_type": "code",
      "metadata": {
        "id": "pOgR2EY08J8A",
        "colab_type": "code",
        "colab": {}
      },
      "source": [
        "import requests\n",
        "from bs4 import BeautifulSoup\n",
        "\n",
        "date_list = [] # 전체 리스트를 가져오고] \n",
        "for i in range(5,33):\n",
        "    url = 'https://www.bok.or.kr/portal/bbs/B0000245/list.do?menuNo=200761'\n",
        "    query = {\n",
        "        'pageIndex' : i\n",
        "      }\n",
        "    resp = requests.get(url, query).text\n",
        "    soup = BeautifulSoup(resp, 'html.parser') #resp.conetent 로 뽑으면 Tag형태로 나오기 때문에 content를 쓰지 않고 리스트 형태로 전환 (날짜만 뽑기 위해)\n",
        "    tag = soup.select('div span.titlesub')\n",
        "    date_list.extend(tag)\n"
      ],
      "execution_count": null,
      "outputs": []
    },
    {
      "cell_type": "code",
      "metadata": {
        "id": "EchxpkWi8J8G",
        "colab_type": "code",
        "colab": {}
      },
      "source": [
        "date_1 = [] # join함수를 써서 list->str로 변환\n",
        "for t in date_list:\n",
        "  date_1.append('\\n'.join(t))\n",
        "len(date_1)\n",
        "\n",
        "date_2 = date_1[7:-8] # 기존의 날짜로 정리\n",
        "\n",
        "date_3 = []\n",
        "for d in range(len(date_2)):\n",
        "  date_3.append(date_2[d].split('('))\n",
        "\n",
        "date_4 = []\n",
        "for t in date_3:\n",
        "  date_4.append(t[2][:-1])\n",
        "\n",
        "date_5 = []\n",
        "for d in date_4:\n",
        "  if d[-1] == '.':\n",
        "    date_5.append(d[:-1])\n",
        "  else:\n",
        "    date_5.append(d)\n",
        "\n",
        "len(date_5)"
      ],
      "execution_count": null,
      "outputs": []
    },
    {
      "cell_type": "code",
      "metadata": {
        "id": "Zv7jRk1k8J8K",
        "colab_type": "code",
        "colab": {}
      },
      "source": [
        "df_date = pd.DataFrame(date_5, columns=['date'])"
      ],
      "execution_count": null,
      "outputs": []
    },
    {
      "cell_type": "markdown",
      "metadata": {
        "id": "kPVOCKZI8J8O",
        "colab_type": "text"
      },
      "source": [
        "## 두개파일 concat"
      ]
    },
    {
      "cell_type": "code",
      "metadata": {
        "id": "yzwJQ5aO8J8P",
        "colab_type": "code",
        "colab": {}
      },
      "source": [
        "df = pd.concat([df_date,df_text], axis = 1)"
      ],
      "execution_count": null,
      "outputs": []
    }
  ]
}