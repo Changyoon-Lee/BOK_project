{
 "cells": [
  {
   "cell_type": "code",
   "execution_count": 1,
   "metadata": {},
   "outputs": [],
   "source": [
    "import pandas as pd\n",
    "import re\n",
    "import numpy as np"
   ]
  },
  {
   "cell_type": "code",
   "execution_count": 2,
   "metadata": {},
   "outputs": [],
   "source": [
    "df = pd.read_csv('infomax2013.csv', parse_dates=['time'])"
   ]
  },
  {
   "cell_type": "code",
   "execution_count": 3,
   "metadata": {},
   "outputs": [
    {
     "name": "stdout",
     "output_type": "stream",
     "text": [
      "<class 'pandas.core.frame.DataFrame'>\n",
      "RangeIndex: 8878 entries, 0 to 8877\n",
      "Data columns (total 3 columns):\n",
      " #   Column  Non-Null Count  Dtype         \n",
      "---  ------  --------------  -----         \n",
      " 0   media   8878 non-null   object        \n",
      " 1   time    8878 non-null   datetime64[ns]\n",
      " 2   body    8878 non-null   object        \n",
      "dtypes: datetime64[ns](1), object(2)\n",
      "memory usage: 208.2+ KB\n"
     ]
    }
   ],
   "source": [
    "df.info()"
   ]
  },
  {
   "cell_type": "code",
   "execution_count": 4,
   "metadata": {},
   "outputs": [],
   "source": [
    "idx_del = df[df['body'] == '[]'].index"
   ]
  },
  {
   "cell_type": "code",
   "execution_count": 5,
   "metadata": {},
   "outputs": [],
   "source": [
    "df = df.drop(idx_del)"
   ]
  },
  {
   "cell_type": "code",
   "execution_count": 6,
   "metadata": {},
   "outputs": [
    {
     "data": {
      "text/plain": [
       "'단기 국채 입찰 호조…낙찰금리 하락 \\', \\'▲獨 1월 실업률 6.8%…예상치 소폭 하회\\', \\'▲그리스 중앙銀 총재 \"최악의 위기 국면은 지났다\"\\', \\'▲<유럽환시> 유로화, 美 성장 부진에 하락\\', \\'▲日 외환당국, 12월27일~1월29일 시장 개입 안 해\\', \\'▲마크 파버 \"통화완화 때문에 중앙銀 벌 받게 될 것\"\\', \\'▲메르켈, EU 정상회의서 예산문제 합의 낙관\\', \\'▲美 실업보험청구자수 36만9천명..3만8천명↑(상보)\\', \\'▲美 12월 소비지출 0.2%↑..예상 부합(상보)\\', \\'▲美 4분기 고용비용지수 0.5% 상승\\', \\'▲뉴욕증시, 경제지표 혼조 속 하락 출발\\', \\'▲1월 시카고 PMI 지난해 4월래 최고(상보)\\', \\'▲\"유로화 강세 \\\\\\'모래성\\\\\\' 같아\"\\', \\'▲美 등급 강등 가능성 상존<골드만삭스> \\', \\'▲<伊국채금리 바닥쳤나…소버린 리스크 상존>\\', \"▲S&P, ECB 신용등급 \\'AAA\\' 확인(상보)\", \"▲핌코 그로스, 채권→주식 자금대회전 \\'회의적\\'\", \"▲\\'버드와이저\\', `코로나\\' 인수 제동…관련주 급락 \", \"▲美증시 1월 상승률 \\'대박\\'…애플은 \\'쪽박\\'\", \\'▲4분기 글로벌 태블릿 수주 75% 증가\\', \\'▲美상원, 부채한도 한시 증액안 가결(상보)\\', \\'▲<뉴욕 전문가 시각> 과매수 우려\\''"
      ]
     },
     "execution_count": 6,
     "metadata": {},
     "output_type": "execute_result"
    }
   ],
   "source": [
    "re.findall(' (.+),.*\\(끝', df['body'].iloc[3])[0]"
   ]
  },
  {
   "cell_type": "code",
   "execution_count": 7,
   "metadata": {},
   "outputs": [],
   "source": [
    "def clean_text(text):\n",
    "#     cleaned_text = re.findall('= (.+)\\,[\\\\ \\'\\,a-z]+?@', text)\n",
    "    cleaned_text = re.findall('= (.+)', text)\n",
    "    if cleaned_text != []:\n",
    "        cleaned_text = re.sub('\\,[\\\\ \\'\\,a-z]+?@','', cleaned_text[0])\n",
    "        cleaned_text = re.sub('<.+>' , '', cleaned_text)\n",
    "        cleaned_text = re.sub('[\\▲\\※\\{\\}\\[\\]\\/?.,;:|\\)*~`!^\\-_+<>@\\#$%&\\\\\\=\\(\\'\\\"]','', cleaned_text)\n",
    "    else:\n",
    "        \n",
    "        cleaned_text = re.findall(' (.+),.*\\(끝', text)\n",
    "        cleaned_text = re.sub('<.+>' ,'', cleaned_text[0])\n",
    "        cleaned_text = re.sub('\\▲\\※\\{\\}\\[\\]\\/?.,;:|\\)*~`!^\\-_+<>@\\#$%&\\\\\\=\\(\\'\\\"]','', cleaned_text)\n",
    "    return cleaned_text"
   ]
  },
  {
   "cell_type": "code",
   "execution_count": 8,
   "metadata": {},
   "outputs": [
    {
     "ename": "IndexError",
     "evalue": "list index out of range",
     "output_type": "error",
     "traceback": [
      "\u001b[1;31m---------------------------------------------------------------------------\u001b[0m",
      "\u001b[1;31mIndexError\u001b[0m                                Traceback (most recent call last)",
      "\u001b[1;32m<ipython-input-8-b601770ce2c9>\u001b[0m in \u001b[0;36m<module>\u001b[1;34m\u001b[0m\n\u001b[1;32m----> 1\u001b[1;33m \u001b[0mdf\u001b[0m\u001b[1;33m[\u001b[0m\u001b[1;34m'body_re'\u001b[0m\u001b[1;33m]\u001b[0m \u001b[1;33m=\u001b[0m \u001b[1;33m[\u001b[0m\u001b[0mclean_text\u001b[0m\u001b[1;33m(\u001b[0m\u001b[0mi\u001b[0m\u001b[1;33m)\u001b[0m \u001b[1;32mfor\u001b[0m \u001b[0mi\u001b[0m \u001b[1;32min\u001b[0m \u001b[0mdf\u001b[0m\u001b[1;33m[\u001b[0m\u001b[1;34m'body'\u001b[0m\u001b[1;33m]\u001b[0m\u001b[1;33m]\u001b[0m\u001b[1;33m\u001b[0m\u001b[1;33m\u001b[0m\u001b[0m\n\u001b[0m",
      "\u001b[1;32m<ipython-input-8-b601770ce2c9>\u001b[0m in \u001b[0;36m<listcomp>\u001b[1;34m(.0)\u001b[0m\n\u001b[1;32m----> 1\u001b[1;33m \u001b[0mdf\u001b[0m\u001b[1;33m[\u001b[0m\u001b[1;34m'body_re'\u001b[0m\u001b[1;33m]\u001b[0m \u001b[1;33m=\u001b[0m \u001b[1;33m[\u001b[0m\u001b[0mclean_text\u001b[0m\u001b[1;33m(\u001b[0m\u001b[0mi\u001b[0m\u001b[1;33m)\u001b[0m \u001b[1;32mfor\u001b[0m \u001b[0mi\u001b[0m \u001b[1;32min\u001b[0m \u001b[0mdf\u001b[0m\u001b[1;33m[\u001b[0m\u001b[1;34m'body'\u001b[0m\u001b[1;33m]\u001b[0m\u001b[1;33m]\u001b[0m\u001b[1;33m\u001b[0m\u001b[1;33m\u001b[0m\u001b[0m\n\u001b[0m",
      "\u001b[1;32m<ipython-input-7-c8f26f8f7233>\u001b[0m in \u001b[0;36mclean_text\u001b[1;34m(text)\u001b[0m\n\u001b[0;32m      9\u001b[0m \u001b[1;33m\u001b[0m\u001b[0m\n\u001b[0;32m     10\u001b[0m         \u001b[0mcleaned_text\u001b[0m \u001b[1;33m=\u001b[0m \u001b[0mre\u001b[0m\u001b[1;33m.\u001b[0m\u001b[0mfindall\u001b[0m\u001b[1;33m(\u001b[0m\u001b[1;34m' (.+),.*\\(끝'\u001b[0m\u001b[1;33m,\u001b[0m \u001b[0mtext\u001b[0m\u001b[1;33m)\u001b[0m\u001b[1;33m\u001b[0m\u001b[1;33m\u001b[0m\u001b[0m\n\u001b[1;32m---> 11\u001b[1;33m         \u001b[0mcleaned_text\u001b[0m \u001b[1;33m=\u001b[0m \u001b[0mre\u001b[0m\u001b[1;33m.\u001b[0m\u001b[0msub\u001b[0m\u001b[1;33m(\u001b[0m\u001b[1;34m'<.+>'\u001b[0m \u001b[1;33m,\u001b[0m\u001b[1;34m''\u001b[0m\u001b[1;33m,\u001b[0m \u001b[0mcleaned_text\u001b[0m\u001b[1;33m[\u001b[0m\u001b[1;36m0\u001b[0m\u001b[1;33m]\u001b[0m\u001b[1;33m)\u001b[0m\u001b[1;33m\u001b[0m\u001b[1;33m\u001b[0m\u001b[0m\n\u001b[0m\u001b[0;32m     12\u001b[0m         \u001b[0mcleaned_text\u001b[0m \u001b[1;33m=\u001b[0m \u001b[0mre\u001b[0m\u001b[1;33m.\u001b[0m\u001b[0msub\u001b[0m\u001b[1;33m(\u001b[0m\u001b[1;34m'\\▲\\※\\{\\}\\[\\]\\/?.,;:|\\)*~`!^\\-_+<>@\\#$%&\\\\\\=\\(\\'\\\"]'\u001b[0m\u001b[1;33m,\u001b[0m\u001b[1;34m''\u001b[0m\u001b[1;33m,\u001b[0m \u001b[0mcleaned_text\u001b[0m\u001b[1;33m)\u001b[0m\u001b[1;33m\u001b[0m\u001b[1;33m\u001b[0m\u001b[0m\n\u001b[0;32m     13\u001b[0m     \u001b[1;32mreturn\u001b[0m \u001b[0mcleaned_text\u001b[0m\u001b[1;33m\u001b[0m\u001b[1;33m\u001b[0m\u001b[0m\n",
      "\u001b[1;31mIndexError\u001b[0m: list index out of range"
     ]
    }
   ],
   "source": [
    "df['body_re'] = [clean_text(i) for i in df['body']]"
   ]
  },
  {
   "cell_type": "code",
   "execution_count": 111,
   "metadata": {},
   "outputs": [
    {
     "data": {
      "text/plain": [
       "1       1일 국채선물시장은 뚜렷한 방향성 없이 출발할 것으로 전망됐다 국채선물은 장중 코스...\n",
       "2       동부증권은 최근 논의되고 있는 외환 당국의 자본유출입 규제안 중에서 채권 거래세가 ...\n",
       "3       뉴욕증시는 경제지표가 혼조세를 나타낸 가운데 1월 비농업부문 고용지표 발표를 하루 ...\n",
       "4       [단기 국채 입찰 호조…낙찰금리 하락 ', '▲獨 1월 실업률 6.8%…예상치 소폭...\n",
       "5       신용등급이 낮아 자본시장에서의 자금조달에 어려움을 겪고 있는 동부그룹 계열사들이 잇...\n",
       "                              ...                        \n",
       "8873    6일 단기자금시장은 통안채 만기와 국세환급 등으로 지급준비금 잉여 수준이 지속될 것...\n",
       "8874    4일미국 동부시간 뉴욕금융시장에서 주가는 유로존유로화 사용 17개국의 정치 불안이 ...\n",
       "8875    회사채 시장 최대 이슈어Issuer인 SK에너지가 4천억원에 달하는 대규모 회사채 ...\n",
       "8876    기획재정부가 4일 실시한 국고채30년물 6천500억원에 대한 입찰에서 가중평균낙찰금...\n",
       "8877    미국 연방준비제도Fed가 기준금리인 연방기금금리FFR 2015년까지 제로 수준에서 ...\n",
       "Name: body_re, Length: 8660, dtype: object"
      ]
     },
     "execution_count": 111,
     "metadata": {},
     "output_type": "execute_result"
    }
   ],
   "source": [
    "df['body_re']"
   ]
  },
  {
   "cell_type": "code",
   "execution_count": 56,
   "metadata": {},
   "outputs": [
    {
     "ename": "SyntaxError",
     "evalue": "invalid syntax (<ipython-input-56-3a77932fcb4a>, line 3)",
     "output_type": "error",
     "traceback": [
      "\u001b[1;36m  File \u001b[1;32m\"<ipython-input-56-3a77932fcb4a>\"\u001b[1;36m, line \u001b[1;32m3\u001b[0m\n\u001b[1;33m    if cleaned_text != []\u001b[0m\n\u001b[1;37m                         ^\u001b[0m\n\u001b[1;31mSyntaxError\u001b[0m\u001b[1;31m:\u001b[0m invalid syntax\n"
     ]
    }
   ],
   "source": []
  },
  {
   "cell_type": "code",
   "execution_count": null,
   "metadata": {},
   "outputs": [],
   "source": []
  }
 ],
 "metadata": {
  "kernelspec": {
   "display_name": "Python 3",
   "language": "python",
   "name": "python3"
  },
  "language_info": {
   "codemirror_mode": {
    "name": "ipython",
    "version": 3
   },
   "file_extension": ".py",
   "mimetype": "text/x-python",
   "name": "python",
   "nbconvert_exporter": "python",
   "pygments_lexer": "ipython3",
   "version": "3.6.10"
  }
 },
 "nbformat": 4,
 "nbformat_minor": 4
}
