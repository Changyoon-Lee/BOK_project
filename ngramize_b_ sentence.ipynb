{
 "cells": [
  {
   "cell_type": "code",
   "execution_count": 1,
   "metadata": {},
   "outputs": [],
   "source": [
    "from ekonlpy.tag import Mecab"
   ]
  },
  {
   "cell_type": "code",
   "execution_count": 1,
   "metadata": {},
   "outputs": [],
   "source": [
    "import MeCab\n",
    "m = MeCab.Tagger()"
   ]
  },
  {
   "cell_type": "code",
   "execution_count": 2,
   "metadata": {},
   "outputs": [],
   "source": [
    "from tqdm import tqdm\n",
    "from ekonlpy.sentiment import MPCK"
   ]
  },
  {
   "cell_type": "code",
   "execution_count": 3,
   "metadata": {},
   "outputs": [],
   "source": [
    "import pandas as pd\n",
    "import csv"
   ]
  },
  {
   "cell_type": "code",
   "execution_count": 4,
   "metadata": {},
   "outputs": [],
   "source": [
    "mpck = MPCK()"
   ]
  },
  {
   "cell_type": "code",
   "execution_count": 6,
   "metadata": {},
   "outputs": [
    {
     "name": "stdout",
     "output_type": "stream",
     "text": [
      "<class 'pandas.core.frame.DataFrame'>\n",
      "Int64Index: 220125 entries, 0 to 224867\n",
      "Data columns (total 3 columns):\n",
      " #   Column  Non-Null Count   Dtype         \n",
      "---  ------  --------------   -----         \n",
      " 0   media   220125 non-null  object        \n",
      " 1   time    220125 non-null  datetime64[ns]\n",
      " 2   body    220125 non-null  object        \n",
      "dtypes: datetime64[ns](1), object(2)\n",
      "memory usage: 6.7+ MB\n"
     ]
    }
   ],
   "source": [
    "news_file = pd.read_csv('ALL_NEWS.csv', parse_dates=['time'])\n",
    "news_file = news_file.drop_duplicates(['body'])#중복값 삭제\n",
    "news_file.info()"
   ]
  },
  {
   "cell_type": "code",
   "execution_count": 5,
   "metadata": {},
   "outputs": [],
   "source": [
    "from nltk import sent_tokenize"
   ]
  },
  {
   "cell_type": "code",
   "execution_count": 70,
   "metadata": {},
   "outputs": [],
   "source": [
    "\n",
    "news_file = news_file.sort_values('time') #시간순정렬\n",
    "news_file.reset_index(inplace = True) #인덱스리셋\n",
    "news_file = news_file[['media','time','body']] #필요한열만 불러오기\n",
    "news_file['ngramize']=0 #token화하기위환 새로운열 생성\n"
   ]
  },
  {
   "cell_type": "code",
   "execution_count": 71,
   "metadata": {},
   "outputs": [
    {
     "data": {
      "text/html": [
       "<div>\n",
       "<style scoped>\n",
       "    .dataframe tbody tr th:only-of-type {\n",
       "        vertical-align: middle;\n",
       "    }\n",
       "\n",
       "    .dataframe tbody tr th {\n",
       "        vertical-align: top;\n",
       "    }\n",
       "\n",
       "    .dataframe thead th {\n",
       "        text-align: right;\n",
       "    }\n",
       "</style>\n",
       "<table border=\"1\" class=\"dataframe\">\n",
       "  <thead>\n",
       "    <tr style=\"text-align: right;\">\n",
       "      <th></th>\n",
       "      <th>media</th>\n",
       "      <th>time</th>\n",
       "      <th>body</th>\n",
       "      <th>ngramize</th>\n",
       "    </tr>\n",
       "  </thead>\n",
       "  <tbody>\n",
       "    <tr>\n",
       "      <th>0</th>\n",
       "      <td>이데일리</td>\n",
       "      <td>2005-05-01</td>\n",
       "      <td>뉴욕증시 투자자들이 시장의 방향을 정하지 못한채 하루하루 재료에 과민반응하고 있다...</td>\n",
       "      <td>0</td>\n",
       "    </tr>\n",
       "    <tr>\n",
       "      <th>1</th>\n",
       "      <td>이데일리</td>\n",
       "      <td>2005-05-01</td>\n",
       "      <td>4월은 잔인했다. 어닝 시즌, 기업들이 내놓은 실적은 실망감만 불렀고 세자리수대를...</td>\n",
       "      <td>0</td>\n",
       "    </tr>\n",
       "    <tr>\n",
       "      <th>2</th>\n",
       "      <td>이데일리</td>\n",
       "      <td>2005-05-01</td>\n",
       "      <td>지난주(4월25~29일) 940선대에서 출발한 증시가 910선대에서 마감했다. `...</td>\n",
       "      <td>0</td>\n",
       "    </tr>\n",
       "    <tr>\n",
       "      <th>3</th>\n",
       "      <td>이데일리</td>\n",
       "      <td>2005-05-01</td>\n",
       "      <td>은행들이 수수료 수입에 급급한 나머지 `일단 팔고 보자`는 식의 상품판매 경쟁에 ...</td>\n",
       "      <td>0</td>\n",
       "    </tr>\n",
       "    <tr>\n",
       "      <th>4</th>\n",
       "      <td>연합뉴스</td>\n",
       "      <td>2005-05-01</td>\n",
       "      <td>이른바 은행들의 전쟁 원년인 올해 4대 시중은행의 초반 전적표가 나왔다.1일 금융계...</td>\n",
       "      <td>0</td>\n",
       "    </tr>\n",
       "    <tr>\n",
       "      <th>5</th>\n",
       "      <td>연합뉴스</td>\n",
       "      <td>2005-05-01</td>\n",
       "      <td>3월 중소기업 대출 연체율이 작년 동기에비해서는 낮아졌지만 작년 말에 비해서는 높아...</td>\n",
       "      <td>0</td>\n",
       "    </tr>\n",
       "    <tr>\n",
       "      <th>6</th>\n",
       "      <td>이데일리</td>\n",
       "      <td>2005-05-02</td>\n",
       "      <td>국제 유가가 고공행진을 지속하고 달러화 자산에 대한 우려가 커지면서, 이슬람 채권...</td>\n",
       "      <td>0</td>\n",
       "    </tr>\n",
       "    <tr>\n",
       "      <th>7</th>\n",
       "      <td>이데일리</td>\n",
       "      <td>2005-05-02</td>\n",
       "      <td>현대선물은 2일 이달 달러/원 환율은 월중 고점이 낮아지는 점진적 하락세를 지속할...</td>\n",
       "      <td>0</td>\n",
       "    </tr>\n",
       "    <tr>\n",
       "      <th>8</th>\n",
       "      <td>이데일리</td>\n",
       "      <td>2005-05-02</td>\n",
       "      <td>한덕수 경제부총리 겸 재정경제부 장관은 3일 간부회의에서 서울 등 수도권 지역에서...</td>\n",
       "      <td>0</td>\n",
       "    </tr>\n",
       "    <tr>\n",
       "      <th>9</th>\n",
       "      <td>이데일리</td>\n",
       "      <td>2005-05-02</td>\n",
       "      <td>채권금리가 2일 관망세를 보이며 보합 수준에 머물고 있다. 단 5년물과 10년물 ...</td>\n",
       "      <td>0</td>\n",
       "    </tr>\n",
       "  </tbody>\n",
       "</table>\n",
       "</div>"
      ],
      "text/plain": [
       "  media       time                                               body  \\\n",
       "0  이데일리 2005-05-01   뉴욕증시 투자자들이 시장의 방향을 정하지 못한채 하루하루 재료에 과민반응하고 있다...   \n",
       "1  이데일리 2005-05-01   4월은 잔인했다. 어닝 시즌, 기업들이 내놓은 실적은 실망감만 불렀고 세자리수대를...   \n",
       "2  이데일리 2005-05-01   지난주(4월25~29일) 940선대에서 출발한 증시가 910선대에서 마감했다. `...   \n",
       "3  이데일리 2005-05-01   은행들이 수수료 수입에 급급한 나머지 `일단 팔고 보자`는 식의 상품판매 경쟁에 ...   \n",
       "4  연합뉴스 2005-05-01  이른바 은행들의 전쟁 원년인 올해 4대 시중은행의 초반 전적표가 나왔다.1일 금융계...   \n",
       "5  연합뉴스 2005-05-01  3월 중소기업 대출 연체율이 작년 동기에비해서는 낮아졌지만 작년 말에 비해서는 높아...   \n",
       "6  이데일리 2005-05-02   국제 유가가 고공행진을 지속하고 달러화 자산에 대한 우려가 커지면서, 이슬람 채권...   \n",
       "7  이데일리 2005-05-02   현대선물은 2일 이달 달러/원 환율은 월중 고점이 낮아지는 점진적 하락세를 지속할...   \n",
       "8  이데일리 2005-05-02   한덕수 경제부총리 겸 재정경제부 장관은 3일 간부회의에서 서울 등 수도권 지역에서...   \n",
       "9  이데일리 2005-05-02   채권금리가 2일 관망세를 보이며 보합 수준에 머물고 있다. 단 5년물과 10년물 ...   \n",
       "\n",
       "   ngramize  \n",
       "0         0  \n",
       "1         0  \n",
       "2         0  \n",
       "3         0  \n",
       "4         0  \n",
       "5         0  \n",
       "6         0  \n",
       "7         0  \n",
       "8         0  \n",
       "9         0  "
      ]
     },
     "execution_count": 71,
     "metadata": {},
     "output_type": "execute_result"
    }
   ],
   "source": [
    "news_file.head(10)"
   ]
  },
  {
   "cell_type": "code",
   "execution_count": 13,
   "metadata": {},
   "outputs": [
    {
     "data": {
      "text/plain": [
       "['금리/NNG;인상/NNG',\n",
       " '금리/NNG;인상/NNG',\n",
       " '금리/NNG;인상/NNG',\n",
       " '금리/NNG;인상/NNG;긴축/NNG',\n",
       " '인상/NNG;긴축/NNG',\n",
       " '물가/NNG;오르/VV',\n",
       " '경기/NNG;둔화/NNG',\n",
       " '인플레이션/NNG;압력/NNG',\n",
       " '인플레이션/NNG;압력/NNG;억제/NNG',\n",
       " '지표/NNG;예상/NNG;나쁘/VA',\n",
       " '예상/NNG;나쁘/VA',\n",
       " '실적/NNG;양호/NNG',\n",
       " '전망/NNG;실망/NNG',\n",
       " '전망/NNG;좋/VA',\n",
       " '전망/NNG;좋/VA;않/VX',\n",
       " '긍정/NNG;부정/NNG']"
      ]
     },
     "execution_count": 13,
     "metadata": {},
     "output_type": "execute_result"
    }
   ],
   "source": [
    "# TEST\n",
    "ngrams = mpck.ngramize(mpck.tokenize(news_file['body'][0]), keep_overlapping_ngram=True)\n",
    "ngrams"
   ]
  },
  {
   "cell_type": "code",
   "execution_count": 14,
   "metadata": {},
   "outputs": [
    {
     "data": {
      "text/plain": [
       "['인플레이션/NNG;압력/NNG;억제/NNG',\n",
       " '금리/NNG;인상/NNG;긴축/NNG',\n",
       " '지표/NNG;예상/NNG;나쁘/VA',\n",
       " '전망/NNG;좋/VA;않/VX',\n",
       " '경기/NNG;둔화/NNG',\n",
       " '실적/NNG;양호/NNG',\n",
       " '전망/NNG;실망/NNG',\n",
       " '긍정/NNG;부정/NNG',\n",
       " '물가/NNG;오르/VV']"
      ]
     },
     "execution_count": 14,
     "metadata": {},
     "output_type": "execute_result"
    }
   ],
   "source": [
    "# TEST\n",
    "ngrams = mpck.ngramize(mpck.tokenize(news_file['body'][0]), keep_overlapping_ngram=False)\n",
    "ngrams"
   ]
  },
  {
   "cell_type": "code",
   "execution_count": 8,
   "metadata": {},
   "outputs": [
    {
     "name": "stderr",
     "output_type": "stream",
     "text": [
      "[nltk_data] Downloading package punkt to /home/haeun/nltk_data...\n",
      "[nltk_data]   Package punkt is already up-to-date!\n"
     ]
    },
    {
     "data": {
      "text/plain": [
       "True"
      ]
     },
     "execution_count": 8,
     "metadata": {},
     "output_type": "execute_result"
    }
   ],
   "source": [
    "import nltk\n",
    "nltk.download('punkt')"
   ]
  },
  {
   "cell_type": "code",
   "execution_count": null,
   "metadata": {},
   "outputs": [],
   "source": [
    "# 기사 문장별 split 후 ngramize\n",
    "ngram_list=[]\n",
    "for i in tqdm(range(len(news_file['body']))):\n",
    "    sent_ngram=[]\n",
    "    sent=sent_tokenize(news_file['body'][i])\n",
    "    for s in sent:\n",
    "        ngrams = mpck.ngramize(mpck.tokenize(s),keep_overlapping_ngram=False)\n",
    "        if ngrams:\n",
    "            sent_ngram.append(ngrams)\n",
    "    ngram_list.append(sent_ngram)\n",
    "ngram_list\n",
    "# unigram 은 아예 단어장에 포함되지 않으므로 노력할 필요 없음\n"
   ]
  }
 ],
 "metadata": {
  "kernelspec": {
   "display_name": "Python 3",
   "language": "python",
   "name": "python3"
  },
  "language_info": {
   "codemirror_mode": {
    "name": "ipython",
    "version": 3
   },
   "file_extension": ".py",
   "mimetype": "text/x-python",
   "name": "python",
   "nbconvert_exporter": "python",
   "pygments_lexer": "ipython3",
   "version": "3.6.10"
  }
 },
 "nbformat": 4,
 "nbformat_minor": 4
}
