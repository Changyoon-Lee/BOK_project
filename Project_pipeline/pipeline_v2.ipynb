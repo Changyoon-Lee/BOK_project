{
 "cells": [
  {
   "cell_type": "code",
   "execution_count": 75,
   "metadata": {},
   "outputs": [],
   "source": [
    "from ekonlpy.tag import Mecab\n",
    "import pandas as pd\n",
    "import glob\n",
    "from tqdm import tqdm\n",
    "from ekonlpy.sentiment import MPCK\n",
    "import re"
   ]
  },
  {
   "cell_type": "code",
   "execution_count": 2,
   "metadata": {},
   "outputs": [],
   "source": [
    "mecab = Mecab()\n",
    "mpck = MPCK()"
   ]
  },
  {
   "cell_type": "code",
   "execution_count": 60,
   "metadata": {},
   "outputs": [],
   "source": [
    "# file_list = glob.glob('csvfile/*.csv')"
   ]
  },
  {
   "cell_type": "code",
   "execution_count": 61,
   "metadata": {},
   "outputs": [],
   "source": [
    "# 3사의 뉴스를 다합치는 코드입니다\n",
    "\n",
    "# with open('ALL_NEWS.csv', 'w', encoding='utf=8') as f:#인포맥스, 이데일리, 연합뉴스 다합치기\n",
    "#     cn=0\n",
    "#     for file in file_list:\n",
    "#         cn+=1\n",
    "        \n",
    "#         df = pd.read_csv(file)\n",
    "#         if cn==1:#첫번째에만 header를 넣었다\n",
    "#             df.to_csv(f,index=False, header=True, encoding='utf-8')\n",
    "#         else : \n",
    "#             df.to_csv(f,index=False, header=False, encoding='utf-8')\n",
    "    "
   ]
  },
  {
   "cell_type": "code",
   "execution_count": 141,
   "metadata": {},
   "outputs": [],
   "source": [
    "news_file.to_pickle('allnews_0729.pkl')\n",
    "bond.to_pickle('bond_0729.pkl')"
   ]
  },
  {
   "cell_type": "code",
   "execution_count": 150,
   "metadata": {},
   "outputs": [
    {
     "name": "stdout",
     "output_type": "stream",
     "text": [
      "<class 'pandas.core.frame.DataFrame'>\n",
      "DatetimeIndex: 221781 entries, 2005-05-01 to 2017-12-27\n",
      "Data columns (total 1 columns):\n",
      " #   Column  Non-Null Count   Dtype \n",
      "---  ------  --------------   ----- \n",
      " 0   body    221761 non-null  object\n",
      "dtypes: object(1)\n",
      "memory usage: 3.4+ MB\n"
     ]
    }
   ],
   "source": [
    "news_bond.info()"
   ]
  },
  {
   "cell_type": "code",
   "execution_count": 151,
   "metadata": {},
   "outputs": [
    {
     "name": "stdout",
     "output_type": "stream",
     "text": [
      "<class 'pandas.core.frame.DataFrame'>\n",
      "DatetimeIndex: 221929 entries, 2005-05-01 to 2005-05-12\n",
      "Data columns (total 1 columns):\n",
      " #   Column  Non-Null Count   Dtype \n",
      "---  ------  --------------   ----- \n",
      " 0   body    221909 non-null  object\n",
      "dtypes: object(1)\n",
      "memory usage: 3.4+ MB\n"
     ]
    }
   ],
   "source": [
    "news_bond_mkb = pd.concat([news_bond,mkb])\n",
    "news_bond_mkb.info()"
   ]
  },
  {
   "cell_type": "code",
   "execution_count": 164,
   "metadata": {},
   "outputs": [
    {
     "name": "stdout",
     "output_type": "stream",
     "text": [
      "<class 'pandas.core.frame.DataFrame'>\n",
      "DatetimeIndex: 4616 entries, 2005-05-01 to 2017-12-31\n",
      "Data columns (total 1 columns):\n",
      " #   Column  Non-Null Count  Dtype \n",
      "---  ------  --------------  ----- \n",
      " 0   body    4596 non-null   object\n",
      "dtypes: object(1)\n",
      "memory usage: 72.1+ KB\n"
     ]
    }
   ],
   "source": [
    "news_bond_mkb = news_bond_mkb.groupby('time').sum()\n",
    "news_bond_mkb.info()"
   ]
  },
  {
   "cell_type": "code",
   "execution_count": 22,
   "metadata": {},
   "outputs": [],
   "source": [
    "from ekonlpy.sentiment import MPCK\n",
    "mpck = MPCK()\n",
    "\n",
    "# ngrams = mpck.ngramize(tokens)\n",
    "# score = mpck.classify(tokens + ngrams, intensity_cutoff=1.5)"
   ]
  },
  {
   "cell_type": "code",
   "execution_count": 61,
   "metadata": {},
   "outputs": [
    {
     "name": "stderr",
     "output_type": "stream",
     "text": [
      "100%|████████████████████████████████████████████████████████████████████████| 220125/220125 [1:25:46<00:00, 42.77it/s]\n"
     ]
    }
   ],
   "source": [
    "# from nltk import sent_tokenize\n",
    "# for i in tqdm(range(len(news_file['body']))):\n",
    "#     news_file['ngramize'][i] = mpck.ngramize(mpck.tokenize(sent_tokenize((news_file['body'][i]))    "
   ]
  },
  {
   "cell_type": "code",
   "execution_count": null,
   "metadata": {},
   "outputs": [
    {
     "name": "stderr",
     "output_type": "stream",
     "text": [
      "  6%|█████                                                                          | 299/4616 [02:49<39:20,  1.83it/s]"
     ]
    }
   ],
   "source": [
    "# 기사 문장별 split 후 ngramize\n",
    "ngram_list=[]\n",
    "for i in tqdm(range(len(news_bond_mkb['body']))):\n",
    "    sent_ngram=[]\n",
    "    sent=sent_tokenize(news_bond_mkb['body'][i])\n",
    "    for s in sent:\n",
    "        ngrams = mpck.ngramize(mpck.tokenize(s),keep_overlapping_ngram=False)\n",
    "        if ngrams:\n",
    "            sent_ngram.append(ngrams)\n",
    "    ngram_list.append(sent_ngram)\n",
    "news_bond_mkb['ngram'] = ngram_list\n",
    "# unigram 은 아예 단어장에 포함되지 않으므로 노력할 필요 없음"
   ]
  },
  {
   "cell_type": "code",
   "execution_count": 62,
   "metadata": {},
   "outputs": [],
   "source": [
    "import pickle\n",
    "news_file = news_file[['time','ngramize']]\n",
    "news_set = news_file.groupby('time').sum()\n",
    "news_set.to_pickle(\"news_set.pkl\")\n",
    "news_set.head()\n",
    "# df = pd.read_pickle(\"df.pkl\")\n",
    "#뉴스기사 ngramize한 세트들 저장"
   ]
  },
  {
   "cell_type": "code",
   "execution_count": 127,
   "metadata": {},
   "outputs": [
    {
     "data": {
      "text/html": [
       "<div>\n",
       "<style scoped>\n",
       "    .dataframe tbody tr th:only-of-type {\n",
       "        vertical-align: middle;\n",
       "    }\n",
       "\n",
       "    .dataframe tbody tr th {\n",
       "        vertical-align: top;\n",
       "    }\n",
       "\n",
       "    .dataframe thead th {\n",
       "        text-align: right;\n",
       "    }\n",
       "</style>\n",
       "<table border=\"1\" class=\"dataframe\">\n",
       "  <thead>\n",
       "    <tr style=\"text-align: right;\">\n",
       "      <th></th>\n",
       "      <th>time</th>\n",
       "      <th>body1</th>\n",
       "      <th>body2</th>\n",
       "    </tr>\n",
       "  </thead>\n",
       "  <tbody>\n",
       "    <tr>\n",
       "      <th>0</th>\n",
       "      <td>2017-11-30</td>\n",
       "      <td>['일부 위원은 최근 미국의 금융·경제상황을 보면 금년 12월 미 연준이 금리를  ...</td>\n",
       "      <td>NaN</td>\n",
       "    </tr>\n",
       "    <tr>\n",
       "      <th>1</th>\n",
       "      <td>2017-10-19</td>\n",
       "      <td>['일부 위원은 최근 미국에서는 임금상승세가 확대되고 세제개혁에 대한 기대  감이 ...</td>\n",
       "      <td>NaN</td>\n",
       "    </tr>\n",
       "    <tr>\n",
       "      <th>2</th>\n",
       "      <td>2017-08-31</td>\n",
       "      <td>['일부 위원은 미국의 금리 정상화 행보에도 불구하고 미 달러화가 약세기조를  지속...</td>\n",
       "      <td>NaN</td>\n",
       "    </tr>\n",
       "    <tr>\n",
       "      <th>3</th>\n",
       "      <td>2017-07-13</td>\n",
       "      <td>['일부 위원은 주요국에서는 성장과 고용이 회복국면의 정점을 향해 가고 있음.', ...</td>\n",
       "      <td>NaN</td>\n",
       "    </tr>\n",
       "    <tr>\n",
       "      <th>4</th>\n",
       "      <td>2017-05-25</td>\n",
       "      <td>['일부 위원은 최근 국제금융시장이 안정된 모습을 지속하는 가운데 국내금융  시장도...</td>\n",
       "      <td>NaN</td>\n",
       "    </tr>\n",
       "  </tbody>\n",
       "</table>\n",
       "</div>"
      ],
      "text/plain": [
       "        time                                              body1 body2\n",
       "0 2017-11-30  ['일부 위원은 최근 미국의 금융·경제상황을 보면 금년 12월 미 연준이 금리를  ...   NaN\n",
       "1 2017-10-19  ['일부 위원은 최근 미국에서는 임금상승세가 확대되고 세제개혁에 대한 기대  감이 ...   NaN\n",
       "2 2017-08-31  ['일부 위원은 미국의 금리 정상화 행보에도 불구하고 미 달러화가 약세기조를  지속...   NaN\n",
       "3 2017-07-13  ['일부 위원은 주요국에서는 성장과 고용이 회복국면의 정점을 향해 가고 있음.', ...   NaN\n",
       "4 2017-05-25  ['일부 위원은 최근 국제금융시장이 안정된 모습을 지속하는 가운데 국내금융  시장도...   NaN"
      ]
     },
     "execution_count": 127,
     "metadata": {},
     "output_type": "execute_result"
    }
   ],
   "source": [
    "mpb = pd.read_csv('MPB1.csv',header=None, names=['time','body1','body2'], parse_dates=['time'])\n",
    "mpb.head()"
   ]
  },
  {
   "cell_type": "code",
   "execution_count": 77,
   "metadata": {},
   "outputs": [],
   "source": [
    "\n",
    "mpb = pd.read_csv('MPB.csv',parse_dates=['Unnamed: 0'])\n",
    "mpb = mpb.rename(columns = {'Unnamed: 0':'time'})\n",
    "mpb = mpb.set_index('time')\n",
    "mpb.head()\n",
    "# mpb['ngramize'] = [mpck.ngramize(mpck.tokenize(i)) for i in mpb['body']]\n",
    "# mpb = mpb[['ngramize']]\n",
    "mpb.sort_index(inplace=True)\n"
   ]
  },
  {
   "cell_type": "code",
   "execution_count": 113,
   "metadata": {},
   "outputs": [],
   "source": [
    "BOK = mpb.merge(mkb, how='left', left_index=True, right_index=True)"
   ]
  },
  {
   "cell_type": "code",
   "execution_count": null,
   "metadata": {},
   "outputs": [],
   "source": [
    "resul = pd.concat([news_set, mpb]) ##### mpb합치기\n",
    "resul.info()\n",
    "result = pd.concat([resul, bond])  ######## bond합치기\n",
    "result.head()\n",
    "\n",
    "result.reset_index(inplace=True)\n",
    "result_set = result.groupby('time').sum()\n",
    "\n",
    "result_set.to_pickle('result_set.pkl')"
   ]
  },
  {
   "cell_type": "markdown",
   "metadata": {},
   "source": [
    "# result_set이 call금리랑 ngramize까지 합쳐서 완료된거"
   ]
  },
  {
   "cell_type": "code",
   "execution_count": 259,
   "metadata": {},
   "outputs": [
    {
     "data": {
      "text/html": [
       "<div>\n",
       "<style scoped>\n",
       "    .dataframe tbody tr th:only-of-type {\n",
       "        vertical-align: middle;\n",
       "    }\n",
       "\n",
       "    .dataframe tbody tr th {\n",
       "        vertical-align: top;\n",
       "    }\n",
       "\n",
       "    .dataframe thead th {\n",
       "        text-align: right;\n",
       "    }\n",
       "</style>\n",
       "<table border=\"1\" class=\"dataframe\">\n",
       "  <thead>\n",
       "    <tr style=\"text-align: right;\">\n",
       "      <th></th>\n",
       "      <th>ngramize</th>\n",
       "      <th>up_down</th>\n",
       "    </tr>\n",
       "    <tr>\n",
       "      <th>time</th>\n",
       "      <th></th>\n",
       "      <th></th>\n",
       "    </tr>\n",
       "  </thead>\n",
       "  <tbody>\n",
       "    <tr>\n",
       "      <th>2005-05-01</th>\n",
       "      <td>[인플레이션/NNG;압력/NNG;억제/NNG, 금리/NNG;인상/NNG;긴축/NNG...</td>\n",
       "      <td>상승</td>\n",
       "    </tr>\n",
       "    <tr>\n",
       "      <th>2005-05-02</th>\n",
       "      <td>[국제/NNG;유가/NNG;고공행진/NNG, 국제/NNG;유가/NNG;강세/NNG,...</td>\n",
       "      <td>상승</td>\n",
       "    </tr>\n",
       "    <tr>\n",
       "      <th>2005-05-03</th>\n",
       "      <td>[fed/NNG;ff/NNG;금리/NNG;인상/NNG, 저점/NNG;경계/NNG, ...</td>\n",
       "      <td>상승</td>\n",
       "    </tr>\n",
       "    <tr>\n",
       "      <th>2005-05-04</th>\n",
       "      <td>[금리/NNG;인상/NNG;가능성/NNG;줄/VV, 채권/NNG;금리/NNG;소폭/...</td>\n",
       "      <td>하락</td>\n",
       "    </tr>\n",
       "    <tr>\n",
       "      <th>2005-05-05</th>\n",
       "      <td>[대출/NNG;한도/NNG;최대/NNG, 경기/NNG;둔화/NNG;우려/NNG;금리...</td>\n",
       "      <td>하락</td>\n",
       "    </tr>\n",
       "  </tbody>\n",
       "</table>\n",
       "</div>"
      ],
      "text/plain": [
       "                                                     ngramize up_down\n",
       "time                                                                 \n",
       "2005-05-01  [인플레이션/NNG;압력/NNG;억제/NNG, 금리/NNG;인상/NNG;긴축/NNG...      상승\n",
       "2005-05-02  [국제/NNG;유가/NNG;고공행진/NNG, 국제/NNG;유가/NNG;강세/NNG,...      상승\n",
       "2005-05-03  [fed/NNG;ff/NNG;금리/NNG;인상/NNG, 저점/NNG;경계/NNG, ...      상승\n",
       "2005-05-04  [금리/NNG;인상/NNG;가능성/NNG;줄/VV, 채권/NNG;금리/NNG;소폭/...      하락\n",
       "2005-05-05  [대출/NNG;한도/NNG;최대/NNG, 경기/NNG;둔화/NNG;우려/NNG;금리...      하락"
      ]
     },
     "execution_count": 259,
     "metadata": {},
     "output_type": "execute_result"
    }
   ],
   "source": [
    "result_set.head()"
   ]
  },
  {
   "cell_type": "code",
   "execution_count": null,
   "metadata": {},
   "outputs": [],
   "source": [
    "result_set = pd.read_pickle('result_set.pkl')"
   ]
  },
  {
   "cell_type": "code",
   "execution_count": 7,
   "metadata": {},
   "outputs": [
    {
     "data": {
      "text/html": [
       "<div>\n",
       "<style scoped>\n",
       "    .dataframe tbody tr th:only-of-type {\n",
       "        vertical-align: middle;\n",
       "    }\n",
       "\n",
       "    .dataframe tbody tr th {\n",
       "        vertical-align: top;\n",
       "    }\n",
       "\n",
       "    .dataframe thead th {\n",
       "        text-align: right;\n",
       "    }\n",
       "</style>\n",
       "<table border=\"1\" class=\"dataframe\">\n",
       "  <thead>\n",
       "    <tr style=\"text-align: right;\">\n",
       "      <th></th>\n",
       "      <th>ngramize</th>\n",
       "      <th>up_down</th>\n",
       "    </tr>\n",
       "    <tr>\n",
       "      <th>time</th>\n",
       "      <th></th>\n",
       "      <th></th>\n",
       "    </tr>\n",
       "  </thead>\n",
       "  <tbody>\n",
       "    <tr>\n",
       "      <th>2005-05-01</th>\n",
       "      <td>[인플레이션/NNG;압력/NNG;억제/NNG, 금리/NNG;인상/NNG;긴축/NNG...</td>\n",
       "      <td>상승</td>\n",
       "    </tr>\n",
       "    <tr>\n",
       "      <th>2005-05-02</th>\n",
       "      <td>[국제/NNG;유가/NNG;고공행진/NNG, 국제/NNG;유가/NNG;강세/NNG,...</td>\n",
       "      <td>상승</td>\n",
       "    </tr>\n",
       "    <tr>\n",
       "      <th>2005-05-03</th>\n",
       "      <td>[fed/NNG;ff/NNG;금리/NNG;인상/NNG, 저점/NNG;경계/NNG, ...</td>\n",
       "      <td>상승</td>\n",
       "    </tr>\n",
       "    <tr>\n",
       "      <th>2005-05-04</th>\n",
       "      <td>[금리/NNG;인상/NNG;가능성/NNG;줄/VV, 채권/NNG;금리/NNG;소폭/...</td>\n",
       "      <td>하락</td>\n",
       "    </tr>\n",
       "    <tr>\n",
       "      <th>2005-05-05</th>\n",
       "      <td>[대출/NNG;한도/NNG;최대/NNG, 경기/NNG;둔화/NNG;우려/NNG;금리...</td>\n",
       "      <td>하락</td>\n",
       "    </tr>\n",
       "  </tbody>\n",
       "</table>\n",
       "</div>"
      ],
      "text/plain": [
       "                                                     ngramize up_down\n",
       "time                                                                 \n",
       "2005-05-01  [인플레이션/NNG;압력/NNG;억제/NNG, 금리/NNG;인상/NNG;긴축/NNG...      상승\n",
       "2005-05-02  [국제/NNG;유가/NNG;고공행진/NNG, 국제/NNG;유가/NNG;강세/NNG,...      상승\n",
       "2005-05-03  [fed/NNG;ff/NNG;금리/NNG;인상/NNG, 저점/NNG;경계/NNG, ...      상승\n",
       "2005-05-04  [금리/NNG;인상/NNG;가능성/NNG;줄/VV, 채권/NNG;금리/NNG;소폭/...      하락\n",
       "2005-05-05  [대출/NNG;한도/NNG;최대/NNG, 경기/NNG;둔화/NNG;우려/NNG;금리...      하락"
      ]
     },
     "execution_count": 7,
     "metadata": {},
     "output_type": "execute_result"
    }
   ],
   "source": [
    "callrate = pd.read_csv('callrate_month_upanddown.csv')\n",
    "\n",
    "callrate = callrate[30:4658][['date','up_down']]\n",
    "callrate = callrate.rename(columns={'date':'time'})\n",
    "callrate = callrate.set_index('time')\n",
    "result_set = result_set.merge(callrate, left_index=True, right_index=True)\n",
    "result_set.head()\n",
    "\n"
   ]
  },
  {
   "cell_type": "code",
   "execution_count": 9,
   "metadata": {},
   "outputs": [],
   "source": [
    "result_set.to_pickle('result_set.pkl')"
   ]
  },
  {
   "cell_type": "code",
   "execution_count": null,
   "metadata": {},
   "outputs": [],
   "source": []
  },
  {
   "cell_type": "code",
   "execution_count": 86,
   "metadata": {},
   "outputs": [],
   "source": []
  },
  {
   "cell_type": "markdown",
   "metadata": {},
   "source": [
    "# 논문저자가 만든 ngram사전"
   ]
  },
  {
   "cell_type": "code",
   "execution_count": 88,
   "metadata": {},
   "outputs": [],
   "source": [
    "vocab = pd.read_csv('mp_polarity_vocab.txt', delimiter=' ', header=None, names=['ngram','n'])\n",
    "vocab"
   ]
  },
  {
   "cell_type": "markdown",
   "metadata": {},
   "source": [
    "## 토큰수 세기"
   ]
  },
  {
   "cell_type": "code",
   "execution_count": 10,
   "metadata": {},
   "outputs": [
    {
     "name": "stdout",
     "output_type": "stream",
     "text": [
      "haw_cnt : 662080\n",
      "dov_cnt : 750384\n"
     ]
    }
   ],
   "source": [
    "from collections import defaultdict\n",
    "\n",
    "# 범주에 속하는 토큰수 세기 1(스팸), 0(정상))\n",
    "haw_cnt = 0\n",
    "dov_cnt = 0\n",
    "\n",
    "# 토큰별로 문서내 빈도수 카운팅\n",
    "wordfreq = defaultdict(lambda : [0, 0])\n",
    "\n",
    "#label 0 이 hawkish   1은 dovish라 가정\n",
    "for ngrams, label in zip(result_set['ngramize'], result_set['up_down']) :\n",
    "    \n",
    "    for ngram in ngrams:\n",
    "        if label == '상승':\n",
    "            wordfreq[ngram][0] += 1\n",
    "        elif label == '하락':\n",
    "            wordfreq[ngram][1] += 1\n",
    "\n",
    "for key, (cnt0, cnt1) in wordfreq.items():\n",
    "    haw_cnt += cnt0\n",
    "    dov_cnt += cnt1\n",
    "\n",
    "print('haw_cnt : {}'.format(haw_cnt))\n",
    "print('dov_cnt : {}'.format(dov_cnt))"
   ]
  },
  {
   "cell_type": "code",
   "execution_count": 11,
   "metadata": {},
   "outputs": [],
   "source": [
    "wordfreq2 = wordfreq.copy()\n",
    "\n",
    "# del cur['key']\n",
    "\n",
    "for key, value in wordfreq2.items():\n",
    "    if sum(value)<15:\n",
    "        del wordfreq[key]"
   ]
  },
  {
   "cell_type": "code",
   "execution_count": 12,
   "metadata": {},
   "outputs": [
    {
     "data": {
      "text/plain": [
       "16534"
      ]
     },
     "execution_count": 12,
     "metadata": {},
     "output_type": "execute_result"
    }
   ],
   "source": [
    "len(wordfreq)"
   ]
  },
  {
   "cell_type": "code",
   "execution_count": 13,
   "metadata": {},
   "outputs": [
    {
     "name": "stdout",
     "output_type": "stream",
     "text": [
      "544975 620442\n"
     ]
    }
   ],
   "source": [
    "haw_cnt = 0\n",
    "dov_cnt = 0\n",
    "for val in wordfreq.values():\n",
    "    haw_cnt+=val[0]\n",
    "    dov_cnt+=val[1]\n",
    "    \n",
    "print(haw_cnt, dov_cnt)"
   ]
  },
  {
   "cell_type": "code",
   "execution_count": 14,
   "metadata": {},
   "outputs": [],
   "source": [
    "\n",
    "k=0.5\n",
    "for key, val in wordfreq.items():\n",
    "    val.append((k+val[0])/(2*k+haw_cnt))\n",
    "    val.append((k+val[1])/(2*k+dov_cnt))\n",
    "    val.append(val[2]/val[3])"
   ]
  },
  {
   "cell_type": "code",
   "execution_count": 16,
   "metadata": {},
   "outputs": [],
   "source": [
    "wordfreq_origin = wordfreq.copy()\n",
    "for key, val in wordfreq.items():\n",
    "    if val[4]>1.3:\n",
    "        wordfreq[key]=1\n",
    "    else if val[4] < 1/1.3:\n",
    "        wordfreq[key]=-1"
   ]
  },
  {
   "cell_type": "code",
   "execution_count": 17,
   "metadata": {},
   "outputs": [
    {
     "data": {
      "text/plain": [
       "1"
      ]
     },
     "execution_count": 17,
     "metadata": {},
     "output_type": "execute_result"
    }
   ],
   "source": [
    "wordfreq['인플레이션/NNG;압력/NNG;억제/NNG']"
   ]
  },
  {
   "cell_type": "code",
   "execution_count": 24,
   "metadata": {},
   "outputs": [],
   "source": [
    "mpb.sort_index(inplace=True)"
   ]
  },
  {
   "cell_type": "markdown",
   "metadata": {},
   "source": [
    "# mpb 문장별로 계산"
   ]
  },
  {
   "cell_type": "code",
   "execution_count": 104,
   "metadata": {},
   "outputs": [
    {
     "data": {
      "text/plain": [
       "[]"
      ]
     },
     "execution_count": 104,
     "metadata": {},
     "output_type": "execute_result"
    }
   ],
   "source": [
    "\n",
    "a = []\n",
    "b = list(map(abs,a))\n",
    "b"
   ]
  },
  {
   "cell_type": "code",
   "execution_count": 26,
   "metadata": {},
   "outputs": [],
   "source": [
    "import numpy as np\n",
    "mpb['tone']=0\n",
    "polar=[]\n",
    "for i, doc in enumerate(mpb['ngramize']):\n",
    "    \n",
    "    sentence_score=[]\n",
    "    for sentence in doc:\n",
    "        \n",
    "        plus=0\n",
    "        minus=0\n",
    "        for ngram in sentence:\n",
    "            if ngram in wordfreq:\n",
    "                minus += wordfreq[ngram]\n",
    "                plus += np.abs(wordfreq[ngram])\n",
    "            \n",
    "        \n",
    "        if plus!=0:\n",
    "            if minus/plus>0:\n",
    "                sentence_score.append(1)\n",
    "            elif minus/plus<0:\n",
    "                sentence_score.append(-1)\n",
    "    if setence_score:\n",
    "        polar = sum(sentence_score)/sum(list(map(abs(sentence_score))))\n",
    "    else : polar =0\n",
    "    polar.append"
   ]
  },
  {
   "cell_type": "code",
   "execution_count": 27,
   "metadata": {},
   "outputs": [],
   "source": [
    "mpb['tone'] = polar"
   ]
  },
  {
   "cell_type": "markdown",
   "metadata": {},
   "source": [
    "## tone값구한거 저장해주세요 version 이름 바꿔서"
   ]
  },
  {
   "cell_type": "code",
   "execution_count": 29,
   "metadata": {},
   "outputs": [],
   "source": [
    "##version name을 적어주세요\n",
    "mpb.to_pickle('mpb_tone_v1')"
   ]
  },
  {
   "cell_type": "markdown",
   "metadata": {},
   "source": [
    "# - 여기부터 tone하고 전체기간기준금리 합쳐서 결과값내는거임"
   ]
  },
  {
   "cell_type": "code",
   "execution_count": 19,
   "metadata": {},
   "outputs": [],
   "source": [
    "rate = pd.read_pickle('전체기간_기준금리.pkl')\n",
    "\n",
    "#tone 불러오기\n",
    "tone = pd.read_pickle('mpb_tone_v1.pkl')"
   ]
  },
  {
   "cell_type": "code",
   "execution_count": 25,
   "metadata": {},
   "outputs": [],
   "source": [
    "tone_rate = tone.merge(rate, left_index=True, right_index=True, how='left' )"
   ]
  },
  {
   "cell_type": "code",
   "execution_count": 26,
   "metadata": {},
   "outputs": [
    {
     "data": {
      "text/html": [
       "<div>\n",
       "<style scoped>\n",
       "    .dataframe tbody tr th:only-of-type {\n",
       "        vertical-align: middle;\n",
       "    }\n",
       "\n",
       "    .dataframe tbody tr th {\n",
       "        vertical-align: top;\n",
       "    }\n",
       "\n",
       "    .dataframe thead th {\n",
       "        text-align: right;\n",
       "    }\n",
       "</style>\n",
       "<table border=\"1\" class=\"dataframe\">\n",
       "  <thead>\n",
       "    <tr style=\"text-align: right;\">\n",
       "      <th></th>\n",
       "      <th>ngramize</th>\n",
       "      <th>tone</th>\n",
       "      <th>base_rate</th>\n",
       "    </tr>\n",
       "    <tr>\n",
       "      <th>time</th>\n",
       "      <th></th>\n",
       "      <th></th>\n",
       "      <th></th>\n",
       "    </tr>\n",
       "  </thead>\n",
       "  <tbody>\n",
       "    <tr>\n",
       "      <th>2005-05-12</th>\n",
       "      <td>[해외/NNG;증권/NNG;투자/NNG;늘/VV, 내외/NNG;금리갭/NNG;축소/...</td>\n",
       "      <td>0.000000</td>\n",
       "      <td>3.5</td>\n",
       "    </tr>\n",
       "    <tr>\n",
       "      <th>2005-06-09</th>\n",
       "      <td>[엔달러/NNG;환율/NNG;상승/NNG, 유로존/NNG;경제/NNG;성장/NNG,...</td>\n",
       "      <td>0.600000</td>\n",
       "      <td>3.5</td>\n",
       "    </tr>\n",
       "    <tr>\n",
       "      <th>2005-07-07</th>\n",
       "      <td>[해외/NNG;증권/NNG;투자/NNG;증가/NNG, 해외/NNG;증권/NNG;투자...</td>\n",
       "      <td>-0.333333</td>\n",
       "      <td>3.5</td>\n",
       "    </tr>\n",
       "    <tr>\n",
       "      <th>2005-08-11</th>\n",
       "      <td>[자본/NNG;유출/NNG;가능성/NNG;낮/VA, 금융시장/NNG;위안/NNG;절...</td>\n",
       "      <td>-0.090909</td>\n",
       "      <td>3.5</td>\n",
       "    </tr>\n",
       "    <tr>\n",
       "      <th>2005-09-08</th>\n",
       "      <td>[금리/NNG;인상/NNG;장기/NNG;금리/NNG;상승/NNG, fed/NNG;단...</td>\n",
       "      <td>-0.333333</td>\n",
       "      <td>3.5</td>\n",
       "    </tr>\n",
       "  </tbody>\n",
       "</table>\n",
       "</div>"
      ],
      "text/plain": [
       "                                                     ngramize      tone  \\\n",
       "time                                                                      \n",
       "2005-05-12  [해외/NNG;증권/NNG;투자/NNG;늘/VV, 내외/NNG;금리갭/NNG;축소/...  0.000000   \n",
       "2005-06-09  [엔달러/NNG;환율/NNG;상승/NNG, 유로존/NNG;경제/NNG;성장/NNG,...  0.600000   \n",
       "2005-07-07  [해외/NNG;증권/NNG;투자/NNG;증가/NNG, 해외/NNG;증권/NNG;투자... -0.333333   \n",
       "2005-08-11  [자본/NNG;유출/NNG;가능성/NNG;낮/VA, 금융시장/NNG;위안/NNG;절... -0.090909   \n",
       "2005-09-08  [금리/NNG;인상/NNG;장기/NNG;금리/NNG;상승/NNG, fed/NNG;단... -0.333333   \n",
       "\n",
       "            base_rate  \n",
       "time                   \n",
       "2005-05-12        3.5  \n",
       "2005-06-09        3.5  \n",
       "2005-07-07        3.5  \n",
       "2005-08-11        3.5  \n",
       "2005-09-08        3.5  "
      ]
     },
     "execution_count": 26,
     "metadata": {},
     "output_type": "execute_result"
    }
   ],
   "source": [
    "tone_rate.head()"
   ]
  },
  {
   "cell_type": "code",
   "execution_count": 27,
   "metadata": {},
   "outputs": [
    {
     "data": {
      "image/png": "[encoded data removed]",
      "text/plain": [
       "<Figure size 432x288 with 2 Axes>"
      ]
     },
     "metadata": {
      "needs_background": "light"
     },
     "output_type": "display_data"
    }
   ],
   "source": [
    "import matplotlib.pyplot as plt\n",
    "\n",
    "\n",
    "fig, ax1 = plt.subplots()  #보조축 차트 만들기\n",
    "\n",
    "ax1.set_xlabel('date')\n",
    "\n",
    "ax1.set_ylabel('tone(mkt)', color='g')  #라인차트 컬러 지정\n",
    "\n",
    "ax1.plot(tone_rate['tone'], 'g-')  #라인차트 형태 지정\n",
    "\n",
    "ax2 = ax1.twinx()  #보조축을 위한 X축 공유 지정\n",
    "\n",
    "ax2.plot(tone_rate['base_rate'], 'b-')\n",
    "\n",
    "ax2.set_ylabel('base_rate', color='b')\n",
    "\n",
    "plt.title('chart')\n",
    "\n",
    "# plt.grid()\n",
    "\n",
    "# fig.tight_layout()\n",
    "\n",
    "plt.show()"
   ]
  },
  {
   "cell_type": "code",
   "execution_count": 28,
   "metadata": {},
   "outputs": [
    {
     "data": {
      "text/html": [
       "<div>\n",
       "<style scoped>\n",
       "    .dataframe tbody tr th:only-of-type {\n",
       "        vertical-align: middle;\n",
       "    }\n",
       "\n",
       "    .dataframe tbody tr th {\n",
       "        vertical-align: top;\n",
       "    }\n",
       "\n",
       "    .dataframe thead th {\n",
       "        text-align: right;\n",
       "    }\n",
       "</style>\n",
       "<table border=\"1\" class=\"dataframe\">\n",
       "  <thead>\n",
       "    <tr style=\"text-align: right;\">\n",
       "      <th></th>\n",
       "      <th>tone</th>\n",
       "      <th>base_rate</th>\n",
       "    </tr>\n",
       "  </thead>\n",
       "  <tbody>\n",
       "    <tr>\n",
       "      <th>tone</th>\n",
       "      <td>1.000000</td>\n",
       "      <td>0.106291</td>\n",
       "    </tr>\n",
       "    <tr>\n",
       "      <th>base_rate</th>\n",
       "      <td>0.106291</td>\n",
       "      <td>1.000000</td>\n",
       "    </tr>\n",
       "  </tbody>\n",
       "</table>\n",
       "</div>"
      ],
      "text/plain": [
       "               tone  base_rate\n",
       "tone       1.000000   0.106291\n",
       "base_rate  0.106291   1.000000"
      ]
     },
     "execution_count": 28,
     "metadata": {},
     "output_type": "execute_result"
    }
   ],
   "source": [
    "tone_rate[['tone','base_rate']].corr()"
   ]
  }
 ],
 "metadata": {
  "kernelspec": {
   "display_name": "Python 3",
   "language": "python",
   "name": "python3"
  },
  "language_info": {
   "codemirror_mode": {
    "name": "ipython",
    "version": 3
   },
   "file_extension": ".py",
   "mimetype": "text/x-python",
   "name": "python",
   "nbconvert_exporter": "python",
   "pygments_lexer": "ipython3",
   "version": "3.6.10"
  }
 },
 "nbformat": 4,
 "nbformat_minor": 4
}
