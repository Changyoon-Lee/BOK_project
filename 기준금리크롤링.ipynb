{
  "nbformat": 4,
  "nbformat_minor": 0,
  "metadata": {
    "colab": {
      "name": "기준금리크롤링.ipynb",
      "provenance": [],
      "collapsed_sections": []
    },
    "kernelspec": {
      "name": "python3",
      "display_name": "Python 3"
    }
  },
  "cells": [
    {
      "cell_type": "code",
      "metadata": {
        "id": "4cJ2vQtkSTIg",
        "colab_type": "code",
        "colab": {}
      },
      "source": [
        "from bs4 import BeautifulSoup\n",
        "import requests\n",
        "\n",
        "url = 'https://www.bok.or.kr/portal/singl/baseRate/list.do?dataSeCd=01&menuNo=200643'"
      ],
      "execution_count": null,
      "outputs": []
    },
    {
      "cell_type": "code",
      "metadata": {
        "id": "WCCU3ZI5TgQk",
        "colab_type": "code",
        "colab": {}
      },
      "source": [
        "resp = requests.get(url)\n",
        "soup = BeautifulSoup(resp.content, 'lxml')"
      ],
      "execution_count": null,
      "outputs": []
    },
    {
      "cell_type": "code",
      "metadata": {
        "id": "855NqaoeTqv7",
        "colab_type": "code",
        "colab": {
          "base_uri": "https://localhost:8080/",
          "height": 1000
        },
        "outputId": "b728ebbf-cba7-46c2-8590-c987b0bd1d8d"
      },
      "source": [
        "tr_list = soup.select('table.fixed tbody tr')\n",
        "tr_list"
      ],
      "execution_count": null,
      "outputs": [
        {
          "output_type": "execute_result",
          "data": {
            "text/plain": [
              "[<tr>\n",
              " <td class=\"fb\">2020</td>\n",
              " <td>05월 28일</td>\n",
              " <td>0.50</td>\n",
              " </tr>, <tr>\n",
              " <td class=\"fb\">2020</td>\n",
              " <td>03월 17일</td>\n",
              " <td>0.75</td>\n",
              " </tr>, <tr>\n",
              " <td class=\"fb\">2019</td>\n",
              " <td>10월 16일</td>\n",
              " <td>1.25</td>\n",
              " </tr>, <tr>\n",
              " <td class=\"fb\">2019</td>\n",
              " <td>07월 18일</td>\n",
              " <td>1.50</td>\n",
              " </tr>, <tr>\n",
              " <td class=\"fb\">2018</td>\n",
              " <td>11월 30일</td>\n",
              " <td>1.75</td>\n",
              " </tr>, <tr>\n",
              " <td class=\"fb\">2017</td>\n",
              " <td>11월 30일</td>\n",
              " <td>1.50</td>\n",
              " </tr>, <tr>\n",
              " <td class=\"fb\">2016</td>\n",
              " <td>06월 09일</td>\n",
              " <td>1.25</td>\n",
              " </tr>, <tr>\n",
              " <td class=\"fb\">2015</td>\n",
              " <td>06월 11일</td>\n",
              " <td>1.50</td>\n",
              " </tr>, <tr>\n",
              " <td class=\"fb\">2015</td>\n",
              " <td>03월 12일</td>\n",
              " <td>1.75</td>\n",
              " </tr>, <tr>\n",
              " <td class=\"fb\">2014</td>\n",
              " <td>10월 15일</td>\n",
              " <td>2.00</td>\n",
              " </tr>, <tr>\n",
              " <td class=\"fb\">2014</td>\n",
              " <td>08월 14일</td>\n",
              " <td>2.25</td>\n",
              " </tr>, <tr>\n",
              " <td class=\"fb\">2013</td>\n",
              " <td>05월 09일</td>\n",
              " <td>2.50</td>\n",
              " </tr>, <tr>\n",
              " <td class=\"fb\">2012</td>\n",
              " <td>10월 11일</td>\n",
              " <td>2.75</td>\n",
              " </tr>, <tr>\n",
              " <td class=\"fb\">2012</td>\n",
              " <td>07월 12일</td>\n",
              " <td>3.00</td>\n",
              " </tr>, <tr>\n",
              " <td class=\"fb\">2011</td>\n",
              " <td>06월 10일</td>\n",
              " <td>3.25</td>\n",
              " </tr>, <tr>\n",
              " <td class=\"fb\">2011</td>\n",
              " <td>03월 10일</td>\n",
              " <td>3.00</td>\n",
              " </tr>, <tr>\n",
              " <td class=\"fb\">2011</td>\n",
              " <td>01월 13일</td>\n",
              " <td>2.75</td>\n",
              " </tr>, <tr>\n",
              " <td class=\"fb\">2010</td>\n",
              " <td>11월 16일</td>\n",
              " <td>2.50</td>\n",
              " </tr>, <tr>\n",
              " <td class=\"fb\">2010</td>\n",
              " <td>07월 09일</td>\n",
              " <td>2.25</td>\n",
              " </tr>, <tr>\n",
              " <td class=\"fb\">2009</td>\n",
              " <td>02월 12일</td>\n",
              " <td>2.00</td>\n",
              " </tr>, <tr>\n",
              " <td class=\"fb\">2009</td>\n",
              " <td>01월 09일</td>\n",
              " <td>2.50</td>\n",
              " </tr>, <tr>\n",
              " <td class=\"fb\">2008</td>\n",
              " <td>12월 11일</td>\n",
              " <td>3.00</td>\n",
              " </tr>, <tr>\n",
              " <td class=\"fb\">2008</td>\n",
              " <td>11월 07일</td>\n",
              " <td>4.00</td>\n",
              " </tr>, <tr>\n",
              " <td class=\"fb\">2008</td>\n",
              " <td>10월 27일</td>\n",
              " <td>4.25</td>\n",
              " </tr>, <tr>\n",
              " <td class=\"fb\">2008</td>\n",
              " <td>10월 09일</td>\n",
              " <td>5.00</td>\n",
              " </tr>, <tr>\n",
              " <td class=\"fb\">2008</td>\n",
              " <td>08월 07일</td>\n",
              " <td>5.25</td>\n",
              " </tr>, <tr>\n",
              " <td class=\"fb\">2007</td>\n",
              " <td>08월 09일</td>\n",
              " <td>5.00</td>\n",
              " </tr>, <tr>\n",
              " <td class=\"fb\">2007</td>\n",
              " <td>07월 12일</td>\n",
              " <td>4.75</td>\n",
              " </tr>, <tr>\n",
              " <td class=\"fb\">2006</td>\n",
              " <td>08월 10일</td>\n",
              " <td>4.50</td>\n",
              " </tr>, <tr>\n",
              " <td class=\"fb\">2006</td>\n",
              " <td>06월 08일</td>\n",
              " <td>4.25</td>\n",
              " </tr>, <tr>\n",
              " <td class=\"fb\">2006</td>\n",
              " <td>02월 09일</td>\n",
              " <td>4.00</td>\n",
              " </tr>, <tr>\n",
              " <td class=\"fb\">2005</td>\n",
              " <td>12월 08일</td>\n",
              " <td>3.75</td>\n",
              " </tr>, <tr>\n",
              " <td class=\"fb\">2005</td>\n",
              " <td>10월 11일</td>\n",
              " <td>3.50</td>\n",
              " </tr>, <tr>\n",
              " <td class=\"fb\">2004</td>\n",
              " <td>11월 11일</td>\n",
              " <td>3.25</td>\n",
              " </tr>, <tr>\n",
              " <td class=\"fb\">2004</td>\n",
              " <td>08월 12일</td>\n",
              " <td>3.50</td>\n",
              " </tr>, <tr>\n",
              " <td class=\"fb\">2003</td>\n",
              " <td>07월 10일</td>\n",
              " <td>3.75</td>\n",
              " </tr>, <tr>\n",
              " <td class=\"fb\">2003</td>\n",
              " <td>05월 13일</td>\n",
              " <td>4.00</td>\n",
              " </tr>, <tr>\n",
              " <td class=\"fb\">2002</td>\n",
              " <td>05월 07일</td>\n",
              " <td>4.25</td>\n",
              " </tr>, <tr>\n",
              " <td class=\"fb\">2001</td>\n",
              " <td>09월 19일</td>\n",
              " <td>4.00</td>\n",
              " </tr>, <tr>\n",
              " <td class=\"fb\">2001</td>\n",
              " <td>08월 09일</td>\n",
              " <td>4.50</td>\n",
              " </tr>, <tr>\n",
              " <td class=\"fb\">2001</td>\n",
              " <td>07월 05일</td>\n",
              " <td>4.75</td>\n",
              " </tr>, <tr>\n",
              " <td class=\"fb\">2001</td>\n",
              " <td>02월 08일</td>\n",
              " <td>5.00</td>\n",
              " </tr>, <tr>\n",
              " <td class=\"fb\">2000</td>\n",
              " <td>10월 05일</td>\n",
              " <td>5.25</td>\n",
              " </tr>, <tr>\n",
              " <td class=\"fb\">2000</td>\n",
              " <td>02월 10일</td>\n",
              " <td>5.00</td>\n",
              " </tr>, <tr>\n",
              " <td class=\"fb\">1999</td>\n",
              " <td>05월 06일</td>\n",
              " <td>4.75</td>\n",
              " </tr>]"
            ]
          },
          "metadata": {
            "tags": []
          },
          "execution_count": 3
        }
      ]
    },
    {
      "cell_type": "code",
      "metadata": {
        "id": "Cb1qTCyEhpsF",
        "colab_type": "code",
        "colab": {
          "base_uri": "https://localhost:8080/",
          "height": 35
        },
        "outputId": "92d04b39-0fd5-4114-ad4f-f73ba6934d5a"
      },
      "source": [
        "tr.text"
      ],
      "execution_count": null,
      "outputs": [
        {
          "output_type": "execute_result",
          "data": {
            "application/vnd.google.colaboratory.intrinsic+json": {
              "type": "string"
            },
            "text/plain": [
              "'\\n1999\\n05월 06일\\n4.75\\n'"
            ]
          },
          "metadata": {
            "tags": []
          },
          "execution_count": 9
        }
      ]
    },
    {
      "cell_type": "code",
      "metadata": {
        "id": "RJ5hd8VwrfOc",
        "colab_type": "code",
        "colab": {}
      },
      "source": [
        "from datetime import date\n",
        "result = []\n",
        "for tr in tr_list[1:]:\n",
        "    a = tr.text.split('\\n')\n",
        "    # print(a)\n",
        "    time = date(int(a[1]), int(a[2][0:2]), int(a[2][4:6])) # year, month, day\n",
        "    base_rate = a[3]\n",
        "    \n",
        "    base_dict = {\n",
        "        'time' : time,\n",
        "        'base_rate' : base_rate\n",
        "    }\n",
        "    result.append(base_dict)"
      ],
      "execution_count": null,
      "outputs": []
    },
    {
      "cell_type": "code",
      "metadata": {
        "id": "IcMNTvMYeZOC",
        "colab_type": "code",
        "colab": {
          "base_uri": "https://localhost:8080/",
          "height": 34
        },
        "outputId": "41100259-0a19-43cc-95aa-957525628264"
      },
      "source": [
        "print(a)"
      ],
      "execution_count": null,
      "outputs": [
        {
          "output_type": "stream",
          "text": [
            "['', '1999', '05월 06일', '4.75', '']\n"
          ],
          "name": "stdout"
        }
      ]
    },
    {
      "cell_type": "code",
      "metadata": {
        "id": "zggyMjD-cCRQ",
        "colab_type": "code",
        "colab": {
          "base_uri": "https://localhost:8080/",
          "height": 225
        },
        "outputId": "7dc1e3b7-4450-482a-853a-4dba50b1c51d"
      },
      "source": [
        "import pandas as pd\n",
        "df = pd.DataFrame(result)\n",
        "df = df.set_index('time')\n",
        "df.head()"
      ],
      "execution_count": null,
      "outputs": [
        {
          "output_type": "execute_result",
          "data": {
            "text/html": [
              "<div>\n",
              "<style scoped>\n",
              "    .dataframe tbody tr th:only-of-type {\n",
              "        vertical-align: middle;\n",
              "    }\n",
              "\n",
              "    .dataframe tbody tr th {\n",
              "        vertical-align: top;\n",
              "    }\n",
              "\n",
              "    .dataframe thead th {\n",
              "        text-align: right;\n",
              "    }\n",
              "</style>\n",
              "<table border=\"1\" class=\"dataframe\">\n",
              "  <thead>\n",
              "    <tr style=\"text-align: right;\">\n",
              "      <th></th>\n",
              "      <th>base_rate</th>\n",
              "    </tr>\n",
              "    <tr>\n",
              "      <th>time</th>\n",
              "      <th></th>\n",
              "    </tr>\n",
              "  </thead>\n",
              "  <tbody>\n",
              "    <tr>\n",
              "      <th>2020-03-17</th>\n",
              "      <td>0.75</td>\n",
              "    </tr>\n",
              "    <tr>\n",
              "      <th>2019-10-16</th>\n",
              "      <td>1.25</td>\n",
              "    </tr>\n",
              "    <tr>\n",
              "      <th>2019-07-18</th>\n",
              "      <td>1.50</td>\n",
              "    </tr>\n",
              "    <tr>\n",
              "      <th>2018-11-30</th>\n",
              "      <td>1.75</td>\n",
              "    </tr>\n",
              "    <tr>\n",
              "      <th>2017-11-30</th>\n",
              "      <td>1.50</td>\n",
              "    </tr>\n",
              "  </tbody>\n",
              "</table>\n",
              "</div>"
            ],
            "text/plain": [
              "           base_rate\n",
              "time                \n",
              "2020-03-17      0.75\n",
              "2019-10-16      1.25\n",
              "2019-07-18      1.50\n",
              "2018-11-30      1.75\n",
              "2017-11-30      1.50"
            ]
          },
          "metadata": {
            "tags": []
          },
          "execution_count": 17
        }
      ]
    },
    {
      "cell_type": "code",
      "metadata": {
        "id": "cu2PQRZAcJtL",
        "colab_type": "code",
        "colab": {}
      },
      "source": [
        "df.to_csv('기준금리')"
      ],
      "execution_count": null,
      "outputs": []
    },
    {
      "cell_type": "code",
      "metadata": {
        "id": "HJKZMuiDdEdJ",
        "colab_type": "code",
        "colab": {
          "base_uri": "https://localhost:8080/",
          "height": 239
        },
        "outputId": "04aef14a-7743-424c-ad6b-9ac699be8557"
      },
      "source": [
        "import csv\n",
        "with open('sample_data/기준금리.csv','r') as f:\n",
        "  read = csv.reader(f)\n",
        "\n",
        "  print(reader)"
      ],
      "execution_count": null,
      "outputs": [
        {
          "output_type": "error",
          "ename": "FileNotFoundError",
          "evalue": "ignored",
          "traceback": [
            "\u001b[0;31m---------------------------------------------------------------------------\u001b[0m",
            "\u001b[0;31mFileNotFoundError\u001b[0m                         Traceback (most recent call last)",
            "\u001b[0;32m<ipython-input-22-b3a95ed007b1>\u001b[0m in \u001b[0;36m<module>\u001b[0;34m()\u001b[0m\n\u001b[1;32m      1\u001b[0m \u001b[0;32mimport\u001b[0m \u001b[0mcsv\u001b[0m\u001b[0;34m\u001b[0m\u001b[0;34m\u001b[0m\u001b[0m\n\u001b[0;32m----> 2\u001b[0;31m \u001b[0;32mwith\u001b[0m \u001b[0mopen\u001b[0m\u001b[0;34m(\u001b[0m\u001b[0;34m'sample_data/기준금리.csv'\u001b[0m\u001b[0;34m,\u001b[0m\u001b[0;34m'r'\u001b[0m\u001b[0;34m)\u001b[0m \u001b[0;32mas\u001b[0m \u001b[0mf\u001b[0m\u001b[0;34m:\u001b[0m\u001b[0;34m\u001b[0m\u001b[0;34m\u001b[0m\u001b[0m\n\u001b[0m\u001b[1;32m      3\u001b[0m   \u001b[0mread\u001b[0m \u001b[0;34m=\u001b[0m \u001b[0mcsv\u001b[0m\u001b[0;34m.\u001b[0m\u001b[0mreader\u001b[0m\u001b[0;34m(\u001b[0m\u001b[0mf\u001b[0m\u001b[0;34m)\u001b[0m\u001b[0;34m\u001b[0m\u001b[0;34m\u001b[0m\u001b[0m\n\u001b[1;32m      4\u001b[0m \u001b[0;34m\u001b[0m\u001b[0m\n\u001b[1;32m      5\u001b[0m   \u001b[0mprint\u001b[0m\u001b[0;34m(\u001b[0m\u001b[0mreader\u001b[0m\u001b[0;34m)\u001b[0m\u001b[0;34m\u001b[0m\u001b[0;34m\u001b[0m\u001b[0m\n",
            "\u001b[0;31mFileNotFoundError\u001b[0m: [Errno 2] No such file or directory: 'sample_data/기준금리.csv'"
          ]
        }
      ]
    },
    {
      "cell_type": "code",
      "metadata": {
        "id": "HMQOwuYEgQ6I",
        "colab_type": "code",
        "colab": {}
      },
      "source": [
        ""
      ],
      "execution_count": null,
      "outputs": []
    }
  ]
}